{
 "cells": [
  {
   "cell_type": "markdown",
   "source": [
    "# A) Data Cleaning\n",
    "<p> To start, I took a look for general properties of the data </p>"
   ],
   "metadata": {
    "collapsed": false
   },
   "id": "31f109360deb8c82"
  },
  {
   "cell_type": "code",
   "execution_count": 6,
   "outputs": [
    {
     "data": {
      "text/plain": "                           Film  Year          Script Type  \\\n0                           300  2007           adaptation   \n1                  3:10 to Yuma  2007               remake   \n2              30 Days of Night  2007           adaptation   \n3           Across the Universe  2007  original screenplay   \n4  Alien vs. Predator - Requiem  2007               sequel   \n\n  Rotten Tomatoes  critics Metacritic  critics Average critics   \\\n0                       60                  51               56   \n1                       88                  76               82   \n2                       50                  53               52   \n3                       54                  56               55   \n4                       14                  29               22   \n\n   Rotten Tomatoes Audience  Metacritic Audience   \\\n0                       89.0                   71   \n1                       86.0                   73   \n2                       56.0                   65   \n3                       82.0                   73   \n4                       31.0                   45   \n\n  Rotten Tomatoes vs Metacritic  deviance Average audience   ...  \\\n0                                      18                80  ...   \n1                                      13                80  ...   \n2                                      -9                61  ...   \n3                                       9                78  ...   \n4                                     -14                38  ...   \n\n   of Gross earned abroad Budget ($million)  Budget recovered  \\\n0                  53.82%                65           701.64%   \n1                  23.18%                50           139.56%   \n2                  47.31%                32           234.67%   \n3                  17.11%                45            65.26%   \n4                  67.57%                40           322.21%   \n\n   Budget recovered opening weekend  Distributor IMDb Rating  \\\n0                           109.05%          NaN         NaN   \n1                            28.07%          NaN         NaN   \n2                            49.85%          NaN         NaN   \n3                             8.50%          NaN         NaN   \n4                            25.15%          NaN         NaN   \n\n   IMDB vs RT disparity Release Date (US) Oscar Winners Oscar Detail  \n0                   NaN       Mar 9, 2007           NaN          NaN  \n1                   NaN       Sep 7, 2007           NaN          NaN  \n2                   NaN      Oct 19, 2007           NaN          NaN  \n3                   NaN      Oct 12, 2007           NaN          NaN  \n4                   NaN      Dec 25, 2007           NaN          NaN  \n\n[5 rows x 31 columns]",
      "text/html": "<div>\n<style scoped>\n    .dataframe tbody tr th:only-of-type {\n        vertical-align: middle;\n    }\n\n    .dataframe tbody tr th {\n        vertical-align: top;\n    }\n\n    .dataframe thead th {\n        text-align: right;\n    }\n</style>\n<table border=\"1\" class=\"dataframe\">\n  <thead>\n    <tr style=\"text-align: right;\">\n      <th></th>\n      <th>Film</th>\n      <th>Year</th>\n      <th>Script Type</th>\n      <th>Rotten Tomatoes  critics</th>\n      <th>Metacritic  critics</th>\n      <th>Average critics</th>\n      <th>Rotten Tomatoes Audience</th>\n      <th>Metacritic Audience</th>\n      <th>Rotten Tomatoes vs Metacritic  deviance</th>\n      <th>Average audience</th>\n      <th>...</th>\n      <th>of Gross earned abroad</th>\n      <th>Budget ($million)</th>\n      <th>Budget recovered</th>\n      <th>Budget recovered opening weekend</th>\n      <th>Distributor</th>\n      <th>IMDb Rating</th>\n      <th>IMDB vs RT disparity</th>\n      <th>Release Date (US)</th>\n      <th>Oscar Winners</th>\n      <th>Oscar Detail</th>\n    </tr>\n  </thead>\n  <tbody>\n    <tr>\n      <th>0</th>\n      <td>300</td>\n      <td>2007</td>\n      <td>adaptation</td>\n      <td>60</td>\n      <td>51</td>\n      <td>56</td>\n      <td>89.0</td>\n      <td>71</td>\n      <td>18</td>\n      <td>80</td>\n      <td>...</td>\n      <td>53.82%</td>\n      <td>65</td>\n      <td>701.64%</td>\n      <td>109.05%</td>\n      <td>NaN</td>\n      <td>NaN</td>\n      <td>NaN</td>\n      <td>Mar 9, 2007</td>\n      <td>NaN</td>\n      <td>NaN</td>\n    </tr>\n    <tr>\n      <th>1</th>\n      <td>3:10 to Yuma</td>\n      <td>2007</td>\n      <td>remake</td>\n      <td>88</td>\n      <td>76</td>\n      <td>82</td>\n      <td>86.0</td>\n      <td>73</td>\n      <td>13</td>\n      <td>80</td>\n      <td>...</td>\n      <td>23.18%</td>\n      <td>50</td>\n      <td>139.56%</td>\n      <td>28.07%</td>\n      <td>NaN</td>\n      <td>NaN</td>\n      <td>NaN</td>\n      <td>Sep 7, 2007</td>\n      <td>NaN</td>\n      <td>NaN</td>\n    </tr>\n    <tr>\n      <th>2</th>\n      <td>30 Days of Night</td>\n      <td>2007</td>\n      <td>adaptation</td>\n      <td>50</td>\n      <td>53</td>\n      <td>52</td>\n      <td>56.0</td>\n      <td>65</td>\n      <td>-9</td>\n      <td>61</td>\n      <td>...</td>\n      <td>47.31%</td>\n      <td>32</td>\n      <td>234.67%</td>\n      <td>49.85%</td>\n      <td>NaN</td>\n      <td>NaN</td>\n      <td>NaN</td>\n      <td>Oct 19, 2007</td>\n      <td>NaN</td>\n      <td>NaN</td>\n    </tr>\n    <tr>\n      <th>3</th>\n      <td>Across the Universe</td>\n      <td>2007</td>\n      <td>original screenplay</td>\n      <td>54</td>\n      <td>56</td>\n      <td>55</td>\n      <td>82.0</td>\n      <td>73</td>\n      <td>9</td>\n      <td>78</td>\n      <td>...</td>\n      <td>17.11%</td>\n      <td>45</td>\n      <td>65.26%</td>\n      <td>8.50%</td>\n      <td>NaN</td>\n      <td>NaN</td>\n      <td>NaN</td>\n      <td>Oct 12, 2007</td>\n      <td>NaN</td>\n      <td>NaN</td>\n    </tr>\n    <tr>\n      <th>4</th>\n      <td>Alien vs. Predator - Requiem</td>\n      <td>2007</td>\n      <td>sequel</td>\n      <td>14</td>\n      <td>29</td>\n      <td>22</td>\n      <td>31.0</td>\n      <td>45</td>\n      <td>-14</td>\n      <td>38</td>\n      <td>...</td>\n      <td>67.57%</td>\n      <td>40</td>\n      <td>322.21%</td>\n      <td>25.15%</td>\n      <td>NaN</td>\n      <td>NaN</td>\n      <td>NaN</td>\n      <td>Dec 25, 2007</td>\n      <td>NaN</td>\n      <td>NaN</td>\n    </tr>\n  </tbody>\n</table>\n<p>5 rows × 31 columns</p>\n</div>"
     },
     "execution_count": 6,
     "metadata": {},
     "output_type": "execute_result"
    }
   ],
   "source": [
    "import pandas as pd\n",
    "df = pd.read_excel(\"data/movies.xlsx\")\n",
    "df.head()"
   ],
   "metadata": {
    "collapsed": false,
    "ExecuteTime": {
     "end_time": "2023-12-14T20:34:47.414905200Z",
     "start_time": "2023-12-14T20:34:46.996329800Z"
    }
   },
   "id": "c258a64411420dbb"
  },
  {
   "cell_type": "code",
   "execution_count": 7,
   "outputs": [
    {
     "data": {
      "text/plain": "Index(['Film', 'Year', 'Script Type', 'Rotten Tomatoes  critics',\n       'Metacritic  critics', 'Average critics ', 'Rotten Tomatoes Audience ',\n       'Metacritic Audience ', 'Rotten Tomatoes vs Metacritic  deviance',\n       'Average audience ', 'Audience vs Critics deviance ', 'Primary Genre',\n       'Genre', 'Opening Weekend', 'Opening weekend ($million)',\n       'Domestic Gross', 'Domestic gross ($million)',\n       'Foreign Gross ($million)', 'Foreign Gross', 'Worldwide Gross',\n       'Worldwide Gross ($million)', ' of Gross earned abroad',\n       'Budget ($million)', ' Budget recovered',\n       ' Budget recovered opening weekend', 'Distributor', 'IMDb Rating',\n       'IMDB vs RT disparity', 'Release Date (US)', 'Oscar Winners',\n       'Oscar Detail'],\n      dtype='object')"
     },
     "execution_count": 7,
     "metadata": {},
     "output_type": "execute_result"
    }
   ],
   "source": [
    "df.columns"
   ],
   "metadata": {
    "collapsed": false,
    "ExecuteTime": {
     "end_time": "2023-12-14T20:37:13.995239100Z",
     "start_time": "2023-12-14T20:37:13.945132400Z"
    }
   },
   "id": "bf95e282bf92c260"
  },
  {
   "cell_type": "markdown",
   "source": [
    "### Observations About Column Names\n",
    "- Naming is not very consistent across columns, (trailing/leading spaces, two adjacent spaces).\n",
    "- Column names might not be very descriptive , or not descriptive enough\n",
    "- Undesirable character for code, it might be tedious to write `Worldwide Gross ($million)` in code multiple times"
   ],
   "metadata": {
    "collapsed": false
   },
   "id": "d3248ddda2985ae2"
  }
 ],
 "metadata": {
  "kernelspec": {
   "display_name": "Python 3",
   "language": "python",
   "name": "python3"
  },
  "language_info": {
   "codemirror_mode": {
    "name": "ipython",
    "version": 2
   },
   "file_extension": ".py",
   "mimetype": "text/x-python",
   "name": "python",
   "nbconvert_exporter": "python",
   "pygments_lexer": "ipython2",
   "version": "2.7.6"
  }
 },
 "nbformat": 4,
 "nbformat_minor": 5
}
