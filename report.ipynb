{
 "cells": [
  {
   "cell_type": "markdown",
   "source": [
    "# Data Mining Assignment\n",
    "## By: Nikolaos Gournakis\n",
    "### Student ID: it22023"
   ],
   "metadata": {
    "collapsed": false
   },
   "id": "8402a274bec12565"
  },
  {
   "cell_type": "markdown",
   "source": [
    "# Introduction\n",
    "This report is an analysis of the process of cleaning and filling-in the dataset given for the assignment and the training of the models for classification of movies into `Won Oscar`/`Not Won Oscar` and clustering.\n",
    "<br>\n",
    "\n",
    "Even thought the report is presented as a Jupyter Notebook, I did the actual process as a python project with multiple modules and a file structure. I did this because I prefer the software development workflow and I find it easier to work with. Even though I do explain everything in the report, I suggest you also take a look at the code in the project (comments are included)."
   ],
   "metadata": {
    "collapsed": false
   },
   "id": "200d4bac2bad5426"
  },
  {
   "cell_type": "markdown",
   "id": "31f109360deb8c82",
   "metadata": {
    "collapsed": false
   },
   "source": [
    "# A) Data Preprocessing\n",
    "The first part of the assignment is split into 3 parts:\n",
    "1. Data Cleaning: handling missing values, renaming columns, etc.\n",
    "2. Data Scrapping for filling in missing values of the dataset\n",
    "3. Filling in the data from the second part and also transform data to a more desirable/usable format\n",
    "<p> To start with part 1 (Data Cleaning), I took a look for general properties of the data </p>\n",
    "\n",
    "##### Note: The code for this port of the assignment is in the file `preprocessing.py`,`cleaning.py`"
   ]
  },
  {
   "cell_type": "code",
   "execution_count": 262,
   "id": "c258a64411420dbb",
   "metadata": {
    "collapsed": false,
    "ExecuteTime": {
     "end_time": "2023-12-16T16:33:47.524544400Z",
     "start_time": "2023-12-16T16:33:46.542030800Z"
    }
   },
   "outputs": [
    {
     "data": {
      "text/plain": "                           Film  Year          Script Type  \\\n0                           300  2007           adaptation   \n1                  3:10 to Yuma  2007               remake   \n2              30 Days of Night  2007           adaptation   \n3           Across the Universe  2007  original screenplay   \n4  Alien vs. Predator - Requiem  2007               sequel   \n\n  Rotten Tomatoes  critics Metacritic  critics Average critics   \\\n0                       60                  51               56   \n1                       88                  76               82   \n2                       50                  53               52   \n3                       54                  56               55   \n4                       14                  29               22   \n\n   Rotten Tomatoes Audience  Metacritic Audience   \\\n0                       89.0                   71   \n1                       86.0                   73   \n2                       56.0                   65   \n3                       82.0                   73   \n4                       31.0                   45   \n\n  Rotten Tomatoes vs Metacritic  deviance Average audience   ...  \\\n0                                      18                80  ...   \n1                                      13                80  ...   \n2                                      -9                61  ...   \n3                                       9                78  ...   \n4                                     -14                38  ...   \n\n   of Gross earned abroad Budget ($million)  Budget recovered  \\\n0                  53.82%                65           701.64%   \n1                  23.18%                50           139.56%   \n2                  47.31%                32           234.67%   \n3                  17.11%                45            65.26%   \n4                  67.57%                40           322.21%   \n\n   Budget recovered opening weekend  Distributor IMDb Rating  \\\n0                           109.05%          NaN         NaN   \n1                            28.07%          NaN         NaN   \n2                            49.85%          NaN         NaN   \n3                             8.50%          NaN         NaN   \n4                            25.15%          NaN         NaN   \n\n   IMDB vs RT disparity Release Date (US) Oscar Winners Oscar Detail  \n0                   NaN       Mar 9, 2007           NaN          NaN  \n1                   NaN       Sep 7, 2007           NaN          NaN  \n2                   NaN      Oct 19, 2007           NaN          NaN  \n3                   NaN      Oct 12, 2007           NaN          NaN  \n4                   NaN      Dec 25, 2007           NaN          NaN  \n\n[5 rows x 31 columns]",
      "text/html": "<div>\n<style scoped>\n    .dataframe tbody tr th:only-of-type {\n        vertical-align: middle;\n    }\n\n    .dataframe tbody tr th {\n        vertical-align: top;\n    }\n\n    .dataframe thead th {\n        text-align: right;\n    }\n</style>\n<table border=\"1\" class=\"dataframe\">\n  <thead>\n    <tr style=\"text-align: right;\">\n      <th></th>\n      <th>Film</th>\n      <th>Year</th>\n      <th>Script Type</th>\n      <th>Rotten Tomatoes  critics</th>\n      <th>Metacritic  critics</th>\n      <th>Average critics</th>\n      <th>Rotten Tomatoes Audience</th>\n      <th>Metacritic Audience</th>\n      <th>Rotten Tomatoes vs Metacritic  deviance</th>\n      <th>Average audience</th>\n      <th>...</th>\n      <th>of Gross earned abroad</th>\n      <th>Budget ($million)</th>\n      <th>Budget recovered</th>\n      <th>Budget recovered opening weekend</th>\n      <th>Distributor</th>\n      <th>IMDb Rating</th>\n      <th>IMDB vs RT disparity</th>\n      <th>Release Date (US)</th>\n      <th>Oscar Winners</th>\n      <th>Oscar Detail</th>\n    </tr>\n  </thead>\n  <tbody>\n    <tr>\n      <th>0</th>\n      <td>300</td>\n      <td>2007</td>\n      <td>adaptation</td>\n      <td>60</td>\n      <td>51</td>\n      <td>56</td>\n      <td>89.0</td>\n      <td>71</td>\n      <td>18</td>\n      <td>80</td>\n      <td>...</td>\n      <td>53.82%</td>\n      <td>65</td>\n      <td>701.64%</td>\n      <td>109.05%</td>\n      <td>NaN</td>\n      <td>NaN</td>\n      <td>NaN</td>\n      <td>Mar 9, 2007</td>\n      <td>NaN</td>\n      <td>NaN</td>\n    </tr>\n    <tr>\n      <th>1</th>\n      <td>3:10 to Yuma</td>\n      <td>2007</td>\n      <td>remake</td>\n      <td>88</td>\n      <td>76</td>\n      <td>82</td>\n      <td>86.0</td>\n      <td>73</td>\n      <td>13</td>\n      <td>80</td>\n      <td>...</td>\n      <td>23.18%</td>\n      <td>50</td>\n      <td>139.56%</td>\n      <td>28.07%</td>\n      <td>NaN</td>\n      <td>NaN</td>\n      <td>NaN</td>\n      <td>Sep 7, 2007</td>\n      <td>NaN</td>\n      <td>NaN</td>\n    </tr>\n    <tr>\n      <th>2</th>\n      <td>30 Days of Night</td>\n      <td>2007</td>\n      <td>adaptation</td>\n      <td>50</td>\n      <td>53</td>\n      <td>52</td>\n      <td>56.0</td>\n      <td>65</td>\n      <td>-9</td>\n      <td>61</td>\n      <td>...</td>\n      <td>47.31%</td>\n      <td>32</td>\n      <td>234.67%</td>\n      <td>49.85%</td>\n      <td>NaN</td>\n      <td>NaN</td>\n      <td>NaN</td>\n      <td>Oct 19, 2007</td>\n      <td>NaN</td>\n      <td>NaN</td>\n    </tr>\n    <tr>\n      <th>3</th>\n      <td>Across the Universe</td>\n      <td>2007</td>\n      <td>original screenplay</td>\n      <td>54</td>\n      <td>56</td>\n      <td>55</td>\n      <td>82.0</td>\n      <td>73</td>\n      <td>9</td>\n      <td>78</td>\n      <td>...</td>\n      <td>17.11%</td>\n      <td>45</td>\n      <td>65.26%</td>\n      <td>8.50%</td>\n      <td>NaN</td>\n      <td>NaN</td>\n      <td>NaN</td>\n      <td>Oct 12, 2007</td>\n      <td>NaN</td>\n      <td>NaN</td>\n    </tr>\n    <tr>\n      <th>4</th>\n      <td>Alien vs. Predator - Requiem</td>\n      <td>2007</td>\n      <td>sequel</td>\n      <td>14</td>\n      <td>29</td>\n      <td>22</td>\n      <td>31.0</td>\n      <td>45</td>\n      <td>-14</td>\n      <td>38</td>\n      <td>...</td>\n      <td>67.57%</td>\n      <td>40</td>\n      <td>322.21%</td>\n      <td>25.15%</td>\n      <td>NaN</td>\n      <td>NaN</td>\n      <td>NaN</td>\n      <td>Dec 25, 2007</td>\n      <td>NaN</td>\n      <td>NaN</td>\n    </tr>\n  </tbody>\n</table>\n<p>5 rows × 31 columns</p>\n</div>"
     },
     "execution_count": 262,
     "metadata": {},
     "output_type": "execute_result"
    }
   ],
   "source": [
    "import warnings\n",
    "warnings.simplefilter(action='ignore', category=FutureWarning)\n",
    "import pandas as pd\n",
    "df = pd.read_excel(\"data/movies.xlsx\")\n",
    "df.head()"
   ]
  },
  {
   "cell_type": "code",
   "execution_count": 263,
   "id": "bf95e282bf92c260",
   "metadata": {
    "collapsed": false,
    "ExecuteTime": {
     "end_time": "2023-12-16T16:33:47.525766100Z",
     "start_time": "2023-12-16T16:33:47.146728700Z"
    }
   },
   "outputs": [
    {
     "data": {
      "text/plain": "Index(['Film', 'Year', 'Script Type', 'Rotten Tomatoes  critics',\n       'Metacritic  critics', 'Average critics ', 'Rotten Tomatoes Audience ',\n       'Metacritic Audience ', 'Rotten Tomatoes vs Metacritic  deviance',\n       'Average audience ', 'Audience vs Critics deviance ', 'Primary Genre',\n       'Genre', 'Opening Weekend', 'Opening weekend ($million)',\n       'Domestic Gross', 'Domestic gross ($million)',\n       'Foreign Gross ($million)', 'Foreign Gross', 'Worldwide Gross',\n       'Worldwide Gross ($million)', ' of Gross earned abroad',\n       'Budget ($million)', ' Budget recovered',\n       ' Budget recovered opening weekend', 'Distributor', 'IMDb Rating',\n       'IMDB vs RT disparity', 'Release Date (US)', 'Oscar Winners',\n       'Oscar Detail'],\n      dtype='object')"
     },
     "execution_count": 263,
     "metadata": {},
     "output_type": "execute_result"
    }
   ],
   "source": [
    "df.columns"
   ]
  },
  {
   "cell_type": "markdown",
   "id": "3dc2f1ef453c4dba",
   "metadata": {
    "collapsed": false
   },
   "source": [
    "### General Observations About Columns\n",
    "<ol>\n",
    "<li>\n",
    "Some are duplicates of others but in different format, example: <code>Domestic Gross</code> , <code>Domestic gross ($million)</code> is the same thing but with a different unit of measurement.\n",
    "</li>\n",
    "<li>\n",
    "Some columns are calculable (`Average audience`,`Budget recovered`,etc.), so in order to avoid mistakes in the dataset, we drop these columns and we recalculate them.\n",
    "</li>\n",
    "</ol>\n",
    "\n",
    "### Columns dropped because of reasons above\n",
    "<table>\n",
    "<tr>\n",
    "    <th>Column Dropped</th>\n",
    "    <th>Reason</th>\n",
    "</tr>\n",
    "<tr>\n",
    "    <td>DOMESTIC GROSS (\\$MILLION)</td>\n",
    "    <td>Duplicate</td>\n",
    "</tr>\n",
    "<tr><td>FOREIGN GROSS (\\$MILLION)</td><td>Duplicate</td></tr>\n",
    "<tr><td>OPENING WEEKEND (\\$MILLION)</td><td>Duplicate</td></tr>\n",
    "<tr><td>WORLDWIDE GROSS (\\$MILLION)</td><td>Duplicate</td></tr>\n",
    "<tr><td>OF GROSS EARNED ABROAD</td><td>Calculable</td></tr>\n",
    "<tr><td>ROTTEN TOMATOES VS METACRITIC  DEVIANCE</td><td>Calculable</td></tr>\n",
    "<tr><td>AVERAGE AUDIENCE</td><td>Calculable</td></tr>\n",
    "<tr><td>AVERAGE CRITICS</td><td>Calculable</td></tr>\n",
    "<tr><td>ROTTEN TOMATOES VS METACRITIC  DEVIANCE</td><td>Calculable</td></tr>\n",
    "<tr><td>BUDGET RECOVERED OPENING WEEKEND</td><td>Calculable</td></tr>\n",
    "<tr><td>BUDGET RECOVERED</td><td>Calculable</td></tr>\n",
    "<tr><td>AUDIENCE VS CRITICS DEVIANCE</td><td>Calculable</td></tr>\n",
    "\n",
    "</table>"
   ]
  },
  {
   "cell_type": "code",
   "execution_count": 264,
   "id": "dfd860000ec07a71",
   "metadata": {
    "collapsed": false,
    "ExecuteTime": {
     "end_time": "2023-12-16T16:33:47.525766100Z",
     "start_time": "2023-12-16T16:33:47.162103700Z"
    }
   },
   "outputs": [],
   "source": [
    "df.drop(columns=['Average critics ', 'Rotten Tomatoes vs Metacritic  deviance',\n",
    "       'Average audience ', 'Audience vs Critics deviance ','Opening weekend ($million)','Domestic gross ($million)',\n",
    "       'Foreign Gross ($million)','Worldwide Gross ($million)', ' of Gross earned abroad', ' Budget recovered',' Budget recovered opening weekend'],inplace=True)"
   ]
  },
  {
   "cell_type": "markdown",
   "id": "d3248ddda2985ae2",
   "metadata": {
    "collapsed": false
   },
   "source": [
    "### Observations About Column Names\n",
    "- Naming is not very consistent across columns, (trailing/leading spaces, two adjacent spaces).\n",
    "- Column names might not be very descriptive , or not descriptive enough\n",
    "- Undesirable character for code, it might be tedious to write `Worldwide Gross ($million)` in code multiple times\n",
    "\n",
    "## Renaming of Columns\n",
    "\n",
    "<p>Renaming each column follows a ruleset that I came up with for consistency, readability and descriptiveness:</p>\n",
    "\n",
    "- All letters are upper case\n",
    "- All spaces are replaced by an underscore\n",
    "- If the column name contains part of a brand name, it becomes abbreviated (e.g. Metacritic => MC, Rotten Tomatoes => RT)\n",
    "- Percentage Symbols added were appropriate\n",
    "- (Rarely Used) If column name is undesirable/non-descriptive then a more appropriate name is chosen\n",
    "\n",
    "###### Note: Some columns are missing from the table, they will be addressed later\n",
    "<table>\n",
    "<tr>\n",
    "<th>Column Before</th>\n",
    "<th>Column After</th>\n",
    "</tr>\n",
    "<tr><td>FILM</td><td>TITLE</td></tr>\n",
    "<tr><td>YEAR</td><td>RELEASE_YEAR</td></tr>\n",
    "<tr><td>SCRIPT TYPE</td><td>SCRIPT_TYPE</td></tr>\n",
    "<tr><td>ROTTEN TOMATOES  CRITICS</td><td>RT_CRITICS</td></tr>\n",
    "<tr><td>METACRITIC  CRITICS</td><td>MC_CRITICS</td></tr>\n",
    "<tr><td>AVERAGE CRITICS</td><td>AVERAGE_CRITICS</td></tr>\n",
    "<tr><td>ROTTEN TOMATOES AUDIENCE</td><td>RT_AUDIENCE</td></tr>\n",
    "<tr><td>METACRITIC AUDIENCE</td><td>MC_AUDIENCE</td></tr>\n",
    "<tr><td>ROTTEN TOMATOES VS METACRITIC  DEVIANCE</td><td>RT_MC_AUDIENCE_DIFFERENCE</td></tr>\n",
    "<tr><td>AVERAGE AUDIENCE</td><td>AVERAGE_AUDIENCE</td></tr>\n",
    "<tr><td>AUDIENCE VS CRITICS DEVIANCE</td><td>CRITICS_AUDIENCE_DIFFERENCE</td></tr>\n",
    "<tr><td>PRIMARY GENRE</td><td>PRIMARY_GENRE</td></tr>\n",
    "<tr><td>GENRE</td><td>GENRE</td></tr>\n",
    "<tr><td>OPENING WEEKEND</td><td>OPENING_WEEKEND</td></tr>\n",
    "<tr><td>DOMESTIC GROSS</td><td>DOMESTIC_GROSS</td></tr>\n",
    "<tr><td>FOREIGN GROSS</td><td>FOREIGN_GROSS</td></tr>\n",
    "<tr><td>WORLDWIDE GROSS</td><td>WORLDWIDE_GROSS</td></tr>\n",
    "<tr><td>OF GROSS EARNED ABROAD</td><td>%OF_GROSS_EARNED_ABROAD</td></tr>\n",
    "<tr><td>BUDGET (\\$MILLION)</td><td>BUDGET</td></tr>\n",
    "<tr><td>BUDGET RECOVERED</td><td>%BUDGET_RECOVERED</td></tr>\n",
    "<tr><td>BUDGET RECOVERED OPENING WEEKEND</td><td>%BUDGET_RECOVERED_OPENING_WEEKEND</td></tr>\n",
    "<tr><td>IMDB RATING</td><td>IMDB_RATING</td></tr>\n",
    "<tr><td>IMDB VS RT DISPARITY</td><td>IMDB_RT_DIFFERENCE</td></tr>\n",
    "<tr><td>OSCAR WINNERS</td><td>WON_OSCAR</td></tr>\n",
    "<tr><td>OSCAR DETAIL</td><td>OSCAR_DETAILS</td></tr>\n",
    "</table>"
   ]
  },
  {
   "cell_type": "code",
   "execution_count": 265,
   "id": "c04a7a4c3840c64e",
   "metadata": {
    "collapsed": false,
    "ExecuteTime": {
     "end_time": "2023-12-16T16:33:47.525766100Z",
     "start_time": "2023-12-16T16:33:47.177752200Z"
    }
   },
   "outputs": [],
   "source": [
    "df.columns = [x.upper().strip() for x in df.columns]\n",
    "try:\n",
    "       df.rename(columns=\n",
    "        {'FILM': 'TITLE',\n",
    "         'YEAR': 'RELEASE_YEAR',\n",
    "         'SCRIPT TYPE': 'SCRIPT_TYPE',\n",
    "         'ROTTEN TOMATOES  CRITICS': 'RT_CRITICS',\n",
    "         'METACRITIC  CRITICS': 'MC_CRITICS',\n",
    "         'ROTTEN TOMATOES AUDIENCE': 'RT_AUDIENCE',\n",
    "         'METACRITIC AUDIENCE': 'MC_AUDIENCE',\n",
    "         'PRIMARY GENRE': 'PRIMARY_GENRE',\n",
    "         'OPENING WEEKEND': 'OPENING_WEEKEND',\n",
    "         'DOMESTIC GROSS': 'DOMESTIC_GROSS',\n",
    "         'FOREIGN GROSS': 'FOREIGN_GROSS',\n",
    "         'WORLDWIDE GROSS': 'WORLDWIDE_GROSS',\n",
    "         'BUDGET ($MILLION)': 'BUDGET',\n",
    "         'IMDB RATING': 'IMDB_RATING',\n",
    "         'IMDB VS RT DISPARITY': 'IMDB_RT_DIFFERENCE',\n",
    "         'OSCAR WINNERS': 'WON_OSCAR',\n",
    "         'OSCAR DETAIL': 'OSCAR_DETAILS'},\n",
    "               inplace=True)\n",
    "except Exception as e:\n",
    "     print(e)"
   ]
  },
  {
   "cell_type": "code",
   "execution_count": 266,
   "id": "1cfd1b4542b3e60a",
   "metadata": {
    "collapsed": false,
    "ExecuteTime": {
     "end_time": "2023-12-16T16:33:47.525766100Z",
     "start_time": "2023-12-16T16:33:47.193700100Z"
    }
   },
   "outputs": [
    {
     "data": {
      "text/plain": "RT_CRITICS               1\nRT_AUDIENCE              1\nPRIMARY_GENRE         1383\nGENRE                    1\nDISTRIBUTOR           1402\nIMDB_RATING           1402\nIMDB_RT_DIFFERENCE    1402\nWON_OSCAR             1346\nOSCAR_DETAILS         1346\ndtype: int64"
     },
     "execution_count": 266,
     "metadata": {},
     "output_type": "execute_result"
    }
   ],
   "source": [
    "na_columns = df.isna().sum()\n",
    "na_columns[na_columns > 0]"
   ]
  },
  {
   "cell_type": "markdown",
   "id": "35d075af7e7d9589",
   "metadata": {
    "collapsed": false
   },
   "source": [
    "### Observations About Missing Values\n",
    "We know that the length of the dataset is 1402 rows, and we can see that the columns `Distributor`,`IMDb Rating` ,`IMDB vs RT disparity`,`Oscar Winners`,`Oscar Detail`,`Primary Genre` have way too many missing values.\n",
    "<br>\n",
    "#### Distributor\n",
    "Distributor is a column that is not very easily filled, so we drop it.\n",
    "<hr>\n",
    "\n",
    "#### IMDb Rating\n",
    "IMDb Rating is a column that we can fill with outside data, we will see later how we fill this column.\n",
    "<hr>\n",
    "\n",
    "#### IMDb vs RT Disparity\n",
    "The same goes for this column, it will be calculated at the same time.\n",
    "<hr>\n",
    "\n",
    "#### Oscar Winners\n",
    "The missing values can be interpreted as \"No Oscar Won\" or an actual missing value. We assume that NaN means \"No Oscar Won\" and we fill the missing values with `False`.\n",
    "<hr>\n",
    "\n",
    "#### Oscar Detail\n",
    "The missing values can be interpreted as \"No Oscar Won\" or an actual missing value. We assume that NaN means \"No Oscar Won\".\n",
    "<hr>\n",
    "\n",
    "#### Primary Genre\n",
    "The amount of values in the column `Primary Genre` is very low, and I don't find it as a very important column, as there is a column `Genre` that I go way more in depth into, so we drop `Primary Genre`.\n",
    " "
   ]
  },
  {
   "cell_type": "code",
   "execution_count": 267,
   "id": "37249c93185bf56a",
   "metadata": {
    "collapsed": false,
    "ExecuteTime": {
     "end_time": "2023-12-16T16:33:47.525766100Z",
     "start_time": "2023-12-16T16:33:47.210239700Z"
    }
   },
   "outputs": [],
   "source": [
    "df.drop(columns=[\"DISTRIBUTOR\",\"PRIMARY_GENRE\"],inplace=True)"
   ]
  },
  {
   "cell_type": "code",
   "execution_count": 268,
   "id": "54868b96187538a0",
   "metadata": {
    "collapsed": false,
    "ExecuteTime": {
     "end_time": "2023-12-16T16:33:47.525766100Z",
     "start_time": "2023-12-16T16:33:47.225707800Z"
    }
   },
   "outputs": [
    {
     "data": {
      "text/plain": "TITLE                  object\nRELEASE_YEAR            int64\nSCRIPT_TYPE            object\nRT_CRITICS             object\nMC_CRITICS             object\nRT_AUDIENCE           float64\nMC_AUDIENCE            object\nGENRE                  object\nOPENING_WEEKEND        object\nDOMESTIC_GROSS         object\nFOREIGN_GROSS          object\nWORLDWIDE_GROSS        object\nBUDGET                 object\nIMDB_RATING           float64\nIMDB_RT_DIFFERENCE    float64\nRELEASE DATE (US)      object\nWON_OSCAR              object\nOSCAR_DETAILS          object\ndtype: object"
     },
     "execution_count": 268,
     "metadata": {},
     "output_type": "execute_result"
    }
   ],
   "source": [
    "df.dtypes"
   ]
  },
  {
   "cell_type": "markdown",
   "id": "60efa4f1ebb9f67c",
   "metadata": {
    "collapsed": false
   },
   "source": [
    "### Observations About Data Types\n",
    "- `RT_CRITICS`, `MC_CRITICS`, `MC_AUDIENCE` , `OPENING_WEEKEND`, `DOMESTIC_GROSS`, `FOREIGN_GROSS`, `WORLDWIDE_GROSS`, `BUDGET` are all of type `object` when they should be of type `float64` or `int64`.\n",
    "- `WON_OSCAR` is of type `object` when it should be of type `bool`.\n",
    "\n",
    "This might indicate that the columns either have strings instead of numbers, or that they were mistyped or that they might have been entered into the dataset in a different format. So we will check each column individually."
   ]
  },
  {
   "cell_type": "code",
   "execution_count": 269,
   "id": "bfcea95bb5d4452f",
   "metadata": {
    "collapsed": false,
    "ExecuteTime": {
     "end_time": "2023-12-16T16:33:47.526773900Z",
     "start_time": "2023-12-16T16:33:47.238876700Z"
    }
   },
   "outputs": [
    {
     "name": "stdout",
     "output_type": "stream",
     "text": [
      "could not convert string to float: '-'\n"
     ]
    }
   ],
   "source": [
    "# Trying to cast `RT_CRITICS` to `float64` excepting an error to help us find the problem-values\n",
    "try:\n",
    "    df[\"RT_CRITICS\"].astype(\"float64\")\n",
    "except Exception as e:\n",
    "    print(e)"
   ]
  },
  {
   "cell_type": "markdown",
   "id": "aed0d2c2a9707f25",
   "metadata": {
    "collapsed": false
   },
   "source": [
    "We can see one of the problem-values of `RT_CRITICS` is `-` which was probably entered either by mistake, or it was a missing value. We will replace with `NaN` and then we will cast the column to `float64`."
   ]
  },
  {
   "cell_type": "code",
   "execution_count": 270,
   "id": "34336dc2286178c3",
   "metadata": {
    "collapsed": false,
    "ExecuteTime": {
     "end_time": "2023-12-16T16:33:47.526773900Z",
     "start_time": "2023-12-16T16:33:47.255181Z"
    }
   },
   "outputs": [],
   "source": [
    "def clean_general_float(x):\n",
    "    if isinstance(x, str):\n",
    "        if x == '-':\n",
    "            return pd.NA\n",
    "    if pd.isna(x):\n",
    "        return x\n",
    "    return float(x)"
   ]
  },
  {
   "cell_type": "markdown",
   "id": "630b7eb1d7736807",
   "metadata": {
    "collapsed": false
   },
   "source": [
    "We create this general function to clean floats, and we apply it to `RT_CRITICS`. This will result in the column having some floats and some `NaN` values. So to cast the column to `int64` we will need to handle the `NaN` values. I decided to fill the `NaN` values with the mean of the column."
   ]
  },
  {
   "cell_type": "code",
   "execution_count": 271,
   "id": "ebf34fdf59f1266b",
   "metadata": {
    "collapsed": false,
    "ExecuteTime": {
     "end_time": "2023-12-16T16:33:47.526773900Z",
     "start_time": "2023-12-16T16:33:47.275793700Z"
    }
   },
   "outputs": [
    {
     "data": {
      "text/plain": "dtype('int64')"
     },
     "execution_count": 271,
     "metadata": {},
     "output_type": "execute_result"
    }
   ],
   "source": [
    "df['RT_CRITICS'] = df['RT_CRITICS'].apply(lambda x: clean_general_float(x))\n",
    "df['RT_CRITICS'] = df['RT_CRITICS'].fillna(df['RT_CRITICS'].mean())\n",
    "df['RT_CRITICS'] = df['RT_CRITICS'].apply(lambda x: int(x))\n",
    "df['RT_CRITICS'].dtype"
   ]
  },
  {
   "cell_type": "code",
   "execution_count": 272,
   "id": "7914e77e8f145d5b",
   "metadata": {
    "collapsed": false,
    "ExecuteTime": {
     "end_time": "2023-12-16T16:33:47.526773900Z",
     "start_time": "2023-12-16T16:33:47.286032800Z"
    }
   },
   "outputs": [
    {
     "name": "stdout",
     "output_type": "stream",
     "text": [
      "could not convert string to float: '-'\n"
     ]
    }
   ],
   "source": [
    "# Trying to cast `MC_CRITICS` to `float64` excepting an error to help us find the problem-values\n",
    "try:\n",
    "    df[\"MC_CRITICS\"].astype(\"float64\")\n",
    "except Exception as e:\n",
    "    print(e)"
   ]
  },
  {
   "cell_type": "code",
   "execution_count": 273,
   "outputs": [
    {
     "data": {
      "text/plain": "array([51, 76, 53, 56, 29, 39, 54, 59, 64, 69, 13, 62, 33, 75, 17, 37, 45,\n       35, 19, 77, 81, 47, 28, 46, 65, 73, 85, 25, 61, 82, 48, 42, 91, 50,\n       27, 96, 44, 36, 49, 58, 74, 83, 67, 32, 80, 92, 41, 63, 78, 94, 84,\n       86, 79, 70, 31, 34, 40, 71, 43, 55, 57, 24, 26, 66, 30, 72, 52, 9,\n       60, 68, 15, 20, 88, 38, 23, 21, 95, 22, 18, 90, 89, 87, 97, 11,\n       100, 12, 16, 93, 99, '-'], dtype=object)"
     },
     "execution_count": 273,
     "metadata": {},
     "output_type": "execute_result"
    }
   ],
   "source": [
    "df['MC_CRITICS'].unique()"
   ],
   "metadata": {
    "collapsed": false,
    "ExecuteTime": {
     "end_time": "2023-12-16T16:33:47.526773900Z",
     "start_time": "2023-12-16T16:33:47.300344900Z"
    }
   },
   "id": "2308c4abf8de1d96"
  },
  {
   "cell_type": "code",
   "execution_count": 274,
   "outputs": [
    {
     "data": {
      "text/plain": "dtype('int64')"
     },
     "execution_count": 274,
     "metadata": {},
     "output_type": "execute_result"
    }
   ],
   "source": [
    "# We can see the same problem-value as before, so we will apply the same strategy\n",
    "df['MC_CRITICS'] = df['MC_CRITICS'].apply(lambda x: clean_general_float(x))\n",
    "df['MC_CRITICS'] = df['MC_CRITICS'].fillna(df['MC_CRITICS'].mean())\n",
    "df['MC_CRITICS'] = df['MC_CRITICS'].apply(lambda x: int(x))\n",
    "df['MC_CRITICS'].dtype"
   ],
   "metadata": {
    "collapsed": false,
    "ExecuteTime": {
     "end_time": "2023-12-16T16:33:47.526773900Z",
     "start_time": "2023-12-16T16:33:47.316812300Z"
    }
   },
   "id": "c49bcb8f69fda512"
  },
  {
   "cell_type": "code",
   "execution_count": 275,
   "outputs": [
    {
     "name": "stdout",
     "output_type": "stream",
     "text": [
      "could not convert string to float: '-'\n"
     ]
    }
   ],
   "source": [
    "# Trying to cast `MC_AUDIENCE` to `float64` excepting an error to help us find the problem-values \n",
    "try:\n",
    "    df[\"MC_AUDIENCE\"].astype(\"float64\")\n",
    "except Exception as e:\n",
    "    print(e)"
   ],
   "metadata": {
    "collapsed": false,
    "ExecuteTime": {
     "end_time": "2023-12-16T16:33:47.526773900Z",
     "start_time": "2023-12-16T16:33:47.333077600Z"
    }
   },
   "id": "bdd6c099f3b2ae5f"
  },
  {
   "cell_type": "code",
   "execution_count": 276,
   "outputs": [
    {
     "data": {
      "text/plain": "array([71, 73, 65, 45, 55, 75, 64, 63, 70, 69, 19, 81, 29, 83, 21, 47, 38,\n       41, 80, 57, 35, 50, 53, 82, 67, 46, 51, 66, 78, 88, 56, 59, 76, 43,\n       68, 48, 61, 86, 60, 87, 74, 62, 72, 79, 92, 85, 89, 77, 90, 52, 44,\n       39, 54, 49, 58, 28, 15, 84, 42, 32, 37, 33, 91, 27, 30, 34, 24, 26,\n       31, 25, 36, 22, 23, 9, 18, 11, '-', 40], dtype=object)"
     },
     "execution_count": 276,
     "metadata": {},
     "output_type": "execute_result"
    }
   ],
   "source": [
    "df['MC_AUDIENCE'].unique()"
   ],
   "metadata": {
    "collapsed": false,
    "ExecuteTime": {
     "end_time": "2023-12-16T16:33:47.526773900Z",
     "start_time": "2023-12-16T16:33:47.345367300Z"
    }
   },
   "id": "640034bddec659aa"
  },
  {
   "cell_type": "code",
   "execution_count": 277,
   "outputs": [
    {
     "data": {
      "text/plain": "dtype('int64')"
     },
     "execution_count": 277,
     "metadata": {},
     "output_type": "execute_result"
    }
   ],
   "source": [
    "# We can see the same problem-value as before, so we will apply the same strategy\n",
    "df['MC_AUDIENCE'] = df['MC_AUDIENCE'].apply(lambda x: clean_general_float(x))\n",
    "df['MC_AUDIENCE'] = df['MC_AUDIENCE'].fillna(df['MC_AUDIENCE'].mean())\n",
    "df['MC_AUDIENCE'] = df['MC_AUDIENCE'].apply(lambda x: int(x))\n",
    "df['MC_AUDIENCE'].dtype"
   ],
   "metadata": {
    "collapsed": false,
    "ExecuteTime": {
     "end_time": "2023-12-16T16:33:47.527773600Z",
     "start_time": "2023-12-16T16:33:47.365922800Z"
    }
   },
   "id": "4ba9120aa4fbf4e9"
  },
  {
   "cell_type": "code",
   "execution_count": 278,
   "outputs": [
    {
     "name": "stdout",
     "output_type": "stream",
     "text": [
      "could not convert string to float: '39,826,840'\n"
     ]
    }
   ],
   "source": [
    "# Trying to cast `OPENING_WEEKEND` to `float64` excepting an error to help us find the problem-values\n",
    "try:\n",
    "    df[\"OPENING_WEEKEND\"].astype(\"float64\")\n",
    "except Exception as e:\n",
    "    print(e)"
   ],
   "metadata": {
    "collapsed": false,
    "ExecuteTime": {
     "end_time": "2023-12-16T16:33:47.527773600Z",
     "start_time": "2023-12-16T16:33:47.379081900Z"
    }
   },
   "id": "b689d7b9467015d0"
  },
  {
   "cell_type": "markdown",
   "source": [
    "We can see that there is now a new problem value. But this time , it might not be a mistake, it looks like the data was input in a different format than expected. We were expecting a number without thousands separators, but we got a number with thousands separators. To transform the data into the format we want we can replace all the commas with nothing."
   ],
   "metadata": {
    "collapsed": false
   },
   "id": "60662fb749ca94a2"
  },
  {
   "cell_type": "code",
   "execution_count": 279,
   "outputs": [],
   "source": [
    "# Redefining the function to remove thousands separating commas\n",
    "def clean_general_float(x):\n",
    "    if isinstance(x, str):\n",
    "        if x == '-':\n",
    "            return pd.NA\n",
    "    \n",
    "        x = x.replace(',', '')\n",
    "    if pd.isna(x):\n",
    "        return x\n",
    "    return float(x)"
   ],
   "metadata": {
    "collapsed": false,
    "ExecuteTime": {
     "end_time": "2023-12-16T16:33:47.527773600Z",
     "start_time": "2023-12-16T16:33:47.390801300Z"
    }
   },
   "id": "64b6c483da129592"
  },
  {
   "cell_type": "code",
   "execution_count": 280,
   "outputs": [
    {
     "data": {
      "text/plain": "dtype('int64')"
     },
     "execution_count": 280,
     "metadata": {},
     "output_type": "execute_result"
    }
   ],
   "source": [
    "df['OPENING_WEEKEND'] = df['OPENING_WEEKEND'].apply(lambda x: clean_general_float(x))\n",
    "df['OPENING_WEEKEND'] = df['OPENING_WEEKEND'].fillna(df['OPENING_WEEKEND'].mean())\n",
    "df['OPENING_WEEKEND'] = df['OPENING_WEEKEND'].apply(lambda x: int(x))\n",
    "df['OPENING_WEEKEND'].dtype"
   ],
   "metadata": {
    "collapsed": false,
    "ExecuteTime": {
     "end_time": "2023-12-16T16:33:47.527773600Z",
     "start_time": "2023-12-16T16:33:47.411033100Z"
    }
   },
   "id": "6fc895496601c6c2"
  },
  {
   "cell_type": "code",
   "execution_count": 281,
   "outputs": [
    {
     "name": "stdout",
     "output_type": "stream",
     "text": [
      "could not convert string to float: '90,411,453'\n"
     ]
    }
   ],
   "source": [
    "# Trying to cast `DOMESTIC_GROSS` to `float64` excepting an error to help us find the problem-values\n",
    "try:\n",
    "    df[\"DOMESTIC_GROSS\"].astype(\"float64\")\n",
    "except Exception as e:\n",
    "    print(e)"
   ],
   "metadata": {
    "collapsed": false,
    "ExecuteTime": {
     "end_time": "2023-12-16T16:33:47.527773600Z",
     "start_time": "2023-12-16T16:33:47.424346Z"
    }
   },
   "id": "3de1c149fe74a5ec"
  },
  {
   "cell_type": "code",
   "execution_count": 282,
   "outputs": [
    {
     "data": {
      "text/plain": "dtype('int64')"
     },
     "execution_count": 282,
     "metadata": {},
     "output_type": "execute_result"
    }
   ],
   "source": [
    "# We can see the same problem-value as before, so we will apply the same strategy\n",
    "df['DOMESTIC_GROSS'] = df['DOMESTIC_GROSS'].apply(lambda x: clean_general_float(x))\n",
    "df['DOMESTIC_GROSS'] = df['DOMESTIC_GROSS'].fillna(df['DOMESTIC_GROSS'].mean())\n",
    "df['DOMESTIC_GROSS'] = df['DOMESTIC_GROSS'].apply(lambda x: int(x))\n",
    "df['DOMESTIC_GROSS'].dtype"
   ],
   "metadata": {
    "collapsed": false,
    "ExecuteTime": {
     "end_time": "2023-12-16T16:33:47.527773600Z",
     "start_time": "2023-12-16T16:33:47.437853900Z"
    }
   },
   "id": "949f3e5f0b7e3c3c"
  },
  {
   "cell_type": "code",
   "execution_count": 283,
   "outputs": [
    {
     "name": "stdout",
     "output_type": "stream",
     "text": [
      "could not convert string to float: '301,700,000'\n"
     ]
    }
   ],
   "source": [
    "# Trying to cast `FOREIGN_GROSS` to `float64` excepting an error to help us find the problem-values\n",
    "try:\n",
    "    df[\"FOREIGN_GROSS\"].astype(\"float64\")\n",
    "except Exception as e:\n",
    "    print(e)"
   ],
   "metadata": {
    "collapsed": false,
    "ExecuteTime": {
     "end_time": "2023-12-16T16:33:47.527773600Z",
     "start_time": "2023-12-16T16:33:47.454031300Z"
    }
   },
   "id": "6fdf8cf4bee83c03"
  },
  {
   "cell_type": "code",
   "execution_count": 284,
   "outputs": [
    {
     "data": {
      "text/plain": "dtype('int64')"
     },
     "execution_count": 284,
     "metadata": {},
     "output_type": "execute_result"
    }
   ],
   "source": [
    "# We can see the same problem-value as before, so we will apply the same strategy\n",
    "df['FOREIGN_GROSS'] = df['FOREIGN_GROSS'].apply(lambda x: clean_general_float(x))\n",
    "df['FOREIGN_GROSS'] = df['FOREIGN_GROSS'].fillna(df['FOREIGN_GROSS'].mean())\n",
    "df['FOREIGN_GROSS'] = df['FOREIGN_GROSS'].apply(lambda x: int(x))\n",
    "df['FOREIGN_GROSS'].dtype"
   ],
   "metadata": {
    "collapsed": false,
    "ExecuteTime": {
     "end_time": "2023-12-16T16:33:47.539948900Z",
     "start_time": "2023-12-16T16:33:47.468452700Z"
    }
   },
   "id": "e7c6576da4d9829b"
  },
  {
   "cell_type": "code",
   "execution_count": 285,
   "outputs": [
    {
     "name": "stdout",
     "output_type": "stream",
     "text": [
      "could not convert string to float: '1,063,160,000'\n"
     ]
    }
   ],
   "source": [
    "# Trying to cast `WORLDWIDE_GROSS` to `float64` excepting an error to help us find the problem-values\n",
    "try:\n",
    "    df[\"WORLDWIDE_GROSS\"].astype(\"float64\")\n",
    "except Exception as e:\n",
    "    print(e)\n",
    "    "
   ],
   "metadata": {
    "collapsed": false,
    "ExecuteTime": {
     "end_time": "2023-12-16T16:33:47.539948900Z",
     "start_time": "2023-12-16T16:33:47.483577900Z"
    }
   },
   "id": "fd5267e4ab240bc8"
  },
  {
   "cell_type": "code",
   "execution_count": 286,
   "outputs": [
    {
     "data": {
      "text/plain": "dtype('int64')"
     },
     "execution_count": 286,
     "metadata": {},
     "output_type": "execute_result"
    }
   ],
   "source": [
    "# We can see the same problem-value as before, so we will apply the same strategy\n",
    "df['WORLDWIDE_GROSS'] = df['WORLDWIDE_GROSS'].apply(lambda x: clean_general_float(x))\n",
    "df['WORLDWIDE_GROSS'] = df['WORLDWIDE_GROSS'].fillna(df['WORLDWIDE_GROSS'].mean())\n",
    "df['WORLDWIDE_GROSS'] = df['WORLDWIDE_GROSS'].apply(lambda x: int(x))\n",
    "df['WORLDWIDE_GROSS'].dtype"
   ],
   "metadata": {
    "collapsed": false,
    "ExecuteTime": {
     "end_time": "2023-12-16T16:33:47.539948900Z",
     "start_time": "2023-12-16T16:33:47.499028300Z"
    }
   },
   "id": "9606b74dd749700e"
  },
  {
   "cell_type": "code",
   "execution_count": 287,
   "outputs": [
    {
     "name": "stdout",
     "output_type": "stream",
     "text": [
      "could not convert string to float: '-'\n"
     ]
    }
   ],
   "source": [
    "# Trying to cast `BUDGET` to `float64` excepting an error to help us find the problem-values\n",
    "try:\n",
    "    df[\"BUDGET\"].astype(\"float64\")\n",
    "except Exception as e:\n",
    "    print(e)"
   ],
   "metadata": {
    "collapsed": false,
    "ExecuteTime": {
     "end_time": "2023-12-16T16:33:47.631260800Z",
     "start_time": "2023-12-16T16:33:47.515433100Z"
    }
   },
   "id": "f0eec3c296fc5074"
  },
  {
   "cell_type": "code",
   "execution_count": 288,
   "outputs": [
    {
     "data": {
      "text/plain": "dtype('int64')"
     },
     "execution_count": 288,
     "metadata": {},
     "output_type": "execute_result"
    }
   ],
   "source": [
    "# We can see the same problem-value as before, so we will apply the same strategy   \n",
    "df['BUDGET'] = df['BUDGET'].apply(lambda x: clean_general_float(x))\n",
    "df['BUDGET'] = df['BUDGET'].fillna(df['BUDGET'].mean())\n",
    "df['BUDGET'] = df['BUDGET'].apply(lambda x: int(x))\n",
    "df['BUDGET'].dtype"
   ],
   "metadata": {
    "collapsed": false,
    "ExecuteTime": {
     "end_time": "2023-12-16T16:33:47.684715300Z",
     "start_time": "2023-12-16T16:33:47.534767900Z"
    }
   },
   "id": "3b642fae58618f66"
  },
  {
   "cell_type": "code",
   "execution_count": 289,
   "outputs": [
    {
     "data": {
      "text/plain": "array([nan, 'Oscar winner', 'Oscar Winner'], dtype=object)"
     },
     "execution_count": 289,
     "metadata": {},
     "output_type": "execute_result"
    }
   ],
   "source": [
    "# Analyzing the column `WON_OSCAR`\n",
    "df['WON_OSCAR'].unique()"
   ],
   "metadata": {
    "collapsed": false,
    "ExecuteTime": {
     "end_time": "2023-12-16T16:33:47.953164600Z",
     "start_time": "2023-12-16T16:33:47.544944700Z"
    }
   },
   "id": "6419bb17698121c1"
  },
  {
   "cell_type": "markdown",
   "source": [
    "We can detect two problems with the column `WON_OSCAR`:\n",
    "1. There are some rows with `Oscar winner` and some with `Oscar Winner` , we will make them all the same.\n",
    "2. There are some rows with `NaN`, I explain the reasoning on how I fill these values <a href=\"#Oscar-Winners\">here</a>.\n",
    "3. The column is of type `object` when it should be of type `bool`, we will cast it to `bool`."
   ],
   "metadata": {
    "collapsed": false
   },
   "id": "1a7ecc4848cf5c84"
  },
  {
   "cell_type": "code",
   "execution_count": 290,
   "outputs": [],
   "source": [
    "def clean_oscar_winners_filter(x):\n",
    "    if not pd.isna(x):\n",
    "        if x == 'Oscar winner' or x == 'Oscar Winner':\n",
    "            return True\n",
    "    return False"
   ],
   "metadata": {
    "collapsed": false,
    "ExecuteTime": {
     "end_time": "2023-12-16T16:33:47.953164600Z",
     "start_time": "2023-12-16T16:33:47.561455100Z"
    }
   },
   "id": "3250b4506ecf83f4"
  },
  {
   "cell_type": "code",
   "execution_count": 291,
   "outputs": [
    {
     "data": {
      "text/plain": "array([False,  True])"
     },
     "execution_count": 291,
     "metadata": {},
     "output_type": "execute_result"
    }
   ],
   "source": [
    "df['WON_OSCAR'] = df['WON_OSCAR'].map(lambda x: clean_oscar_winners_filter(x))\n",
    "df['WON_OSCAR'].unique()"
   ],
   "metadata": {
    "collapsed": false,
    "ExecuteTime": {
     "end_time": "2023-12-16T16:33:47.954182400Z",
     "start_time": "2023-12-16T16:33:47.578821100Z"
    }
   },
   "id": "57a065646e00c0b6"
  },
  {
   "cell_type": "markdown",
   "source": [
    "### Categorical Columns\n",
    "We will now take a look at the categorical columns and see if there are any problems with them.\n",
    "We will start with `SCRIPT_TYPE`."
   ],
   "metadata": {
    "collapsed": false
   },
   "id": "ad4ac0d7bd75d0a5"
  },
  {
   "cell_type": "code",
   "execution_count": 292,
   "outputs": [
    {
     "data": {
      "text/plain": "{'adaptation',\n 'based on a true story',\n 'documentary',\n 'original screenplay',\n 'prequel',\n 'remake',\n 'remake / reboot',\n 'sequel'}"
     },
     "metadata": {},
     "output_type": "display_data"
    }
   ],
   "source": [
    "def get_unique_script_types():\n",
    "    unique_script_types = df['SCRIPT_TYPE'].value_counts().index.tolist()\n",
    "    # Getting all the unique column values, might be (single_value) or (value1,value2,...)\n",
    "    # We will split them and add them to a set to get all the unique values\n",
    "    scripts = set()\n",
    "    for i in unique_script_types:\n",
    "        # if `unique_script_types` is a string like this \"value1,value2,\" then `x` will be a list of 3 items, the last one being an empty string, this is a bug so we can prevent this by stripping trailing commas on `i` before splitting\n",
    "        for x in i.rstrip(',').split(','):\n",
    "            scripts.add(x.strip())\n",
    "    display(scripts)\n",
    "\n",
    "get_unique_script_types()\n",
    "# This gives us all the unique script types that a movie can have. Each movie can have one or multiple of the values bellow."
   ],
   "metadata": {
    "collapsed": false,
    "ExecuteTime": {
     "end_time": "2023-12-16T16:33:47.954182400Z",
     "start_time": "2023-12-16T16:33:47.591466200Z"
    }
   },
   "id": "c35f823ae2482804"
  },
  {
   "cell_type": "code",
   "execution_count": 293,
   "outputs": [
    {
     "data": {
      "text/plain": "{'ADAPTATION',\n 'BASED ON A TRUE STORY',\n 'DOCUMENTARY',\n 'ORIGINAL SCREENPLAY',\n 'PREQUEL',\n 'REMAKE',\n 'SEQUEL'}"
     },
     "metadata": {},
     "output_type": "display_data"
    }
   ],
   "source": [
    "# We can see that the values are pretty okay, apart from `remake` and `remake/reboot` which are the same thing, so we will make them the same\n",
    "\n",
    "# Also make all the values uppercase and strip trailing/leading spaces for consistency\n",
    "df['SCRIPT_TYPE'] = df['SCRIPT_TYPE'].apply(lambda x: x.upper())\n",
    "df['SCRIPT_TYPE'] = df['SCRIPT_TYPE'].apply(lambda x: x.strip())\n",
    "df['SCRIPT_TYPE'] = df['SCRIPT_TYPE'].apply(lambda x: x.replace('REMAKE / REBOOT', 'REMAKE'))\n",
    "\n",
    "get_unique_script_types()"
   ],
   "metadata": {
    "collapsed": false,
    "ExecuteTime": {
     "end_time": "2023-12-16T16:33:47.954182400Z",
     "start_time": "2023-12-16T16:33:47.607837500Z"
    }
   },
   "id": "e43e447af865bfdf"
  },
  {
   "cell_type": "code",
   "execution_count": 294,
   "outputs": [],
   "source": [
    "# We would like to transform this column into one-hot encoding, but we know that a movie can have multiple script types. So instead of one-hot encoding , we will use multiple-hot encoding. For each unique script type a column will be created and if a movie has that script type then the value of the column will be `True` else `False`.\n",
    "\n",
    "# This creates all the new columns and sets them to True where applicable, else it will be NaN\n",
    "for i in df.index:\n",
    "    for script in df.loc[i, 'SCRIPT_TYPE'].split(','):\n",
    "        script = script.strip()\n",
    "        df.loc[i, f\"SCRIPT_{script.replace(' ', '_')}\"] = True\n",
    "        \n",
    "\n",
    "# We also drop the `SCRIPT_TYPE` column because we don't need it anymore.\n",
    "df.drop(columns=['SCRIPT_TYPE'], inplace=True)\n",
    "\n",
    "\n",
    "# We fill the NaN values with False.\n",
    "for col in df.columns:\n",
    "    if col.startswith('SCRIPT_'):\n",
    "        df[col] = df[col].fillna(False)"
   ],
   "metadata": {
    "collapsed": false,
    "ExecuteTime": {
     "end_time": "2023-12-16T16:33:48.018754700Z",
     "start_time": "2023-12-16T16:33:47.626244500Z"
    }
   },
   "id": "2bfa47c0f3387cbb"
  },
  {
   "cell_type": "code",
   "execution_count": 295,
   "outputs": [
    {
     "data": {
      "text/plain": "                          TITLE  RELEASE_YEAR  RT_CRITICS  MC_CRITICS  \\\n0                           300          2007          60          51   \n1                  3:10 to Yuma          2007          88          76   \n2              30 Days of Night          2007          50          53   \n3           Across the Universe          2007          54          56   \n4  Alien vs. Predator - Requiem          2007          14          29   \n\n   RT_AUDIENCE  MC_AUDIENCE           GENRE  OPENING_WEEKEND  DOMESTIC_GROSS  \\\n0         89.0           71  period, action         70885301       210614939   \n1         86.0           73         western         14035033        53606916   \n2         56.0           65          horror         15951902        39568996   \n3         82.0           73         musical          3824988        24343673   \n4         31.0           45  sci-fi, horror         10059425        41797066   \n\n   FOREIGN_GROSS  ...  RELEASE DATE (US)  WON_OSCAR  OSCAR_DETAILS  \\\n0      245453242  ...        Mar 9, 2007      False            NaN   \n1       16173815  ...        Sep 7, 2007      False            NaN   \n2       35526091  ...       Oct 19, 2007      False            NaN   \n3        5023470  ...       Oct 12, 2007      False            NaN   \n4       87086650  ...       Dec 25, 2007      False            NaN   \n\n   SCRIPT_ADAPTATION SCRIPT_REMAKE  SCRIPT_ORIGINAL_SCREENPLAY SCRIPT_SEQUEL  \\\n0               True         False                       False         False   \n1              False          True                       False         False   \n2               True         False                       False         False   \n3              False         False                        True         False   \n4              False         False                       False          True   \n\n   SCRIPT_BASED_ON_A_TRUE_STORY  SCRIPT_DOCUMENTARY  SCRIPT_PREQUEL  \n0                         False               False           False  \n1                         False               False           False  \n2                         False               False           False  \n3                         False               False           False  \n4                         False               False           False  \n\n[5 rows x 24 columns]",
      "text/html": "<div>\n<style scoped>\n    .dataframe tbody tr th:only-of-type {\n        vertical-align: middle;\n    }\n\n    .dataframe tbody tr th {\n        vertical-align: top;\n    }\n\n    .dataframe thead th {\n        text-align: right;\n    }\n</style>\n<table border=\"1\" class=\"dataframe\">\n  <thead>\n    <tr style=\"text-align: right;\">\n      <th></th>\n      <th>TITLE</th>\n      <th>RELEASE_YEAR</th>\n      <th>RT_CRITICS</th>\n      <th>MC_CRITICS</th>\n      <th>RT_AUDIENCE</th>\n      <th>MC_AUDIENCE</th>\n      <th>GENRE</th>\n      <th>OPENING_WEEKEND</th>\n      <th>DOMESTIC_GROSS</th>\n      <th>FOREIGN_GROSS</th>\n      <th>...</th>\n      <th>RELEASE DATE (US)</th>\n      <th>WON_OSCAR</th>\n      <th>OSCAR_DETAILS</th>\n      <th>SCRIPT_ADAPTATION</th>\n      <th>SCRIPT_REMAKE</th>\n      <th>SCRIPT_ORIGINAL_SCREENPLAY</th>\n      <th>SCRIPT_SEQUEL</th>\n      <th>SCRIPT_BASED_ON_A_TRUE_STORY</th>\n      <th>SCRIPT_DOCUMENTARY</th>\n      <th>SCRIPT_PREQUEL</th>\n    </tr>\n  </thead>\n  <tbody>\n    <tr>\n      <th>0</th>\n      <td>300</td>\n      <td>2007</td>\n      <td>60</td>\n      <td>51</td>\n      <td>89.0</td>\n      <td>71</td>\n      <td>period, action</td>\n      <td>70885301</td>\n      <td>210614939</td>\n      <td>245453242</td>\n      <td>...</td>\n      <td>Mar 9, 2007</td>\n      <td>False</td>\n      <td>NaN</td>\n      <td>True</td>\n      <td>False</td>\n      <td>False</td>\n      <td>False</td>\n      <td>False</td>\n      <td>False</td>\n      <td>False</td>\n    </tr>\n    <tr>\n      <th>1</th>\n      <td>3:10 to Yuma</td>\n      <td>2007</td>\n      <td>88</td>\n      <td>76</td>\n      <td>86.0</td>\n      <td>73</td>\n      <td>western</td>\n      <td>14035033</td>\n      <td>53606916</td>\n      <td>16173815</td>\n      <td>...</td>\n      <td>Sep 7, 2007</td>\n      <td>False</td>\n      <td>NaN</td>\n      <td>False</td>\n      <td>True</td>\n      <td>False</td>\n      <td>False</td>\n      <td>False</td>\n      <td>False</td>\n      <td>False</td>\n    </tr>\n    <tr>\n      <th>2</th>\n      <td>30 Days of Night</td>\n      <td>2007</td>\n      <td>50</td>\n      <td>53</td>\n      <td>56.0</td>\n      <td>65</td>\n      <td>horror</td>\n      <td>15951902</td>\n      <td>39568996</td>\n      <td>35526091</td>\n      <td>...</td>\n      <td>Oct 19, 2007</td>\n      <td>False</td>\n      <td>NaN</td>\n      <td>True</td>\n      <td>False</td>\n      <td>False</td>\n      <td>False</td>\n      <td>False</td>\n      <td>False</td>\n      <td>False</td>\n    </tr>\n    <tr>\n      <th>3</th>\n      <td>Across the Universe</td>\n      <td>2007</td>\n      <td>54</td>\n      <td>56</td>\n      <td>82.0</td>\n      <td>73</td>\n      <td>musical</td>\n      <td>3824988</td>\n      <td>24343673</td>\n      <td>5023470</td>\n      <td>...</td>\n      <td>Oct 12, 2007</td>\n      <td>False</td>\n      <td>NaN</td>\n      <td>False</td>\n      <td>False</td>\n      <td>True</td>\n      <td>False</td>\n      <td>False</td>\n      <td>False</td>\n      <td>False</td>\n    </tr>\n    <tr>\n      <th>4</th>\n      <td>Alien vs. Predator - Requiem</td>\n      <td>2007</td>\n      <td>14</td>\n      <td>29</td>\n      <td>31.0</td>\n      <td>45</td>\n      <td>sci-fi, horror</td>\n      <td>10059425</td>\n      <td>41797066</td>\n      <td>87086650</td>\n      <td>...</td>\n      <td>Dec 25, 2007</td>\n      <td>False</td>\n      <td>NaN</td>\n      <td>False</td>\n      <td>False</td>\n      <td>False</td>\n      <td>True</td>\n      <td>False</td>\n      <td>False</td>\n      <td>False</td>\n    </tr>\n  </tbody>\n</table>\n<p>5 rows × 24 columns</p>\n</div>"
     },
     "execution_count": 295,
     "metadata": {},
     "output_type": "execute_result"
    }
   ],
   "source": [
    "df.head()"
   ],
   "metadata": {
    "collapsed": false,
    "ExecuteTime": {
     "end_time": "2023-12-16T16:33:48.041258200Z",
     "start_time": "2023-12-16T16:33:47.753281700Z"
    }
   },
   "id": "e4e4eeb42272b8b3"
  },
  {
   "cell_type": "markdown",
   "source": [
    "We can see <a href=\"#Renaming-of-Columns\">here</a> that the column `GENRE` has one `NaN` value. Because genre are difficult to fill we just throw away the row."
   ],
   "metadata": {
    "collapsed": false
   },
   "id": "dc6cd2c390b835d0"
  },
  {
   "cell_type": "code",
   "execution_count": 296,
   "outputs": [
    {
     "data": {
      "text/plain": "                    TITLE  RELEASE_YEAR  RT_CRITICS  MC_CRITICS  RT_AUDIENCE  \\\n930  Deliver Us From Evil          2014          28          40         42.0   \n\n     MC_AUDIENCE GENRE  OPENING_WEEKEND  DOMESTIC_GROSS  FOREIGN_GROSS  ...  \\\n930           59   NaN          9740471        30477122       57360693  ...   \n\n     RELEASE DATE (US)  WON_OSCAR  OSCAR_DETAILS  SCRIPT_ADAPTATION  \\\n930        Jul 2, 2014      False            NaN               True   \n\n    SCRIPT_REMAKE  SCRIPT_ORIGINAL_SCREENPLAY SCRIPT_SEQUEL  \\\n930         False                       False         False   \n\n     SCRIPT_BASED_ON_A_TRUE_STORY  SCRIPT_DOCUMENTARY  SCRIPT_PREQUEL  \n930                         False               False           False  \n\n[1 rows x 24 columns]",
      "text/html": "<div>\n<style scoped>\n    .dataframe tbody tr th:only-of-type {\n        vertical-align: middle;\n    }\n\n    .dataframe tbody tr th {\n        vertical-align: top;\n    }\n\n    .dataframe thead th {\n        text-align: right;\n    }\n</style>\n<table border=\"1\" class=\"dataframe\">\n  <thead>\n    <tr style=\"text-align: right;\">\n      <th></th>\n      <th>TITLE</th>\n      <th>RELEASE_YEAR</th>\n      <th>RT_CRITICS</th>\n      <th>MC_CRITICS</th>\n      <th>RT_AUDIENCE</th>\n      <th>MC_AUDIENCE</th>\n      <th>GENRE</th>\n      <th>OPENING_WEEKEND</th>\n      <th>DOMESTIC_GROSS</th>\n      <th>FOREIGN_GROSS</th>\n      <th>...</th>\n      <th>RELEASE DATE (US)</th>\n      <th>WON_OSCAR</th>\n      <th>OSCAR_DETAILS</th>\n      <th>SCRIPT_ADAPTATION</th>\n      <th>SCRIPT_REMAKE</th>\n      <th>SCRIPT_ORIGINAL_SCREENPLAY</th>\n      <th>SCRIPT_SEQUEL</th>\n      <th>SCRIPT_BASED_ON_A_TRUE_STORY</th>\n      <th>SCRIPT_DOCUMENTARY</th>\n      <th>SCRIPT_PREQUEL</th>\n    </tr>\n  </thead>\n  <tbody>\n    <tr>\n      <th>930</th>\n      <td>Deliver Us From Evil</td>\n      <td>2014</td>\n      <td>28</td>\n      <td>40</td>\n      <td>42.0</td>\n      <td>59</td>\n      <td>NaN</td>\n      <td>9740471</td>\n      <td>30477122</td>\n      <td>57360693</td>\n      <td>...</td>\n      <td>Jul 2, 2014</td>\n      <td>False</td>\n      <td>NaN</td>\n      <td>True</td>\n      <td>False</td>\n      <td>False</td>\n      <td>False</td>\n      <td>False</td>\n      <td>False</td>\n      <td>False</td>\n    </tr>\n  </tbody>\n</table>\n<p>1 rows × 24 columns</p>\n</div>"
     },
     "execution_count": 296,
     "metadata": {},
     "output_type": "execute_result"
    }
   ],
   "source": [
    "df[df['GENRE'].isna()]"
   ],
   "metadata": {
    "collapsed": false,
    "ExecuteTime": {
     "end_time": "2023-12-16T16:33:48.042255800Z",
     "start_time": "2023-12-16T16:33:47.775531300Z"
    }
   },
   "id": "f63a1c8420520ae"
  },
  {
   "cell_type": "code",
   "execution_count": 297,
   "outputs": [],
   "source": [
    "try:\n",
    "    df.drop(index=930, inplace=True)\n",
    "except Exception as e:\n",
    "    print(e)\n",
    "df.index = pd.RangeIndex(0, len(df.index))"
   ],
   "metadata": {
    "collapsed": false,
    "ExecuteTime": {
     "end_time": "2023-12-16T16:33:48.043211400Z",
     "start_time": "2023-12-16T16:33:47.789701500Z"
    }
   },
   "id": "18369715c9503d1c"
  },
  {
   "cell_type": "code",
   "execution_count": 298,
   "outputs": [
    {
     "data": {
      "text/plain": "{'ACTION',\n 'ADVENTURE',\n 'ANIMATION',\n 'BIOGRAPHY',\n 'COMEDY',\n 'CRIME',\n 'DOCUMENTARY',\n 'DRAMA',\n 'FAMIILY',\n 'FAMILY',\n 'FANTASY',\n 'HISTORY',\n 'HORRO',\n 'HORROR',\n 'MUSIC',\n 'MUSICAL',\n 'MYSTERY',\n 'PERIOD',\n 'ROMANCE',\n 'ROMANTIC COMEDY',\n 'SCI-FI',\n 'SCI-FI. THRILLER',\n 'SPORT',\n 'SPORTS',\n 'THRILER',\n 'THRILLER',\n 'WAR',\n 'WESTERN'}"
     },
     "metadata": {},
     "output_type": "display_data"
    }
   ],
   "source": [
    "# We do the same thing for `GENRE`\n",
    "def get_unique_genres():\n",
    "    \n",
    "    unique_genres = df['GENRE'].value_counts().index.tolist()\n",
    "    # Getting all the unique column values, might be (single_value) or (value1,value2,...)\n",
    "    # We will split them and add them to a set to get all the unique values\n",
    "    genres = set()\n",
    "    for i in unique_genres:\n",
    "        # if `unique_genres` is a string like this \"value1,value2,\" then `x` will be a list of 3 items, the last one being an empty string, this is a bug so we can prevent this by stripping trailing commas on `i` before splitting\n",
    "        for x in i.strip().rstrip(',').split(','):\n",
    "            genres.add(x.strip())\n",
    "    display(genres)\n",
    "    \n",
    "    \n",
    "df['GENRE'] = df['GENRE'].apply(lambda x: x.upper())\n",
    "df['GENRE'] = df['GENRE'].apply(lambda x: x.strip())\n",
    "get_unique_genres()"
   ],
   "metadata": {
    "collapsed": false,
    "ExecuteTime": {
     "end_time": "2023-12-16T16:33:48.044203700Z",
     "start_time": "2023-12-16T16:33:47.811738500Z"
    }
   },
   "id": "900ae47fc7fab25e"
  },
  {
   "cell_type": "markdown",
   "source": [
    "We can see multiple problems with the unique values of `GENRE`:\n",
    "\n",
    "1. For the value `SCI-FI. THRILLER`, it seems a '.' was used instead of a ',' so we will replace it.\n",
    "2. There is a typo in the value `FAMIILY`.\n",
    "3. There is a typo in the value `THRILER`.\n",
    "4. There is a typo in the value `HORRO`\n",
    "5. There are the values `SPORTS` and `SPORT` which are the same thing. I prefer `SPORT`.\n",
    "6. There are the values `MUSICAL` and `MUSIC` which are the same thing. I prefer `MUSICAL`."
   ],
   "metadata": {
    "collapsed": false
   },
   "id": "d73c1d48867d0eec"
  },
  {
   "cell_type": "code",
   "execution_count": 299,
   "outputs": [],
   "source": [
    "# Fixes point 1\n",
    "df['GENRE'] = df['GENRE'].apply(lambda x: x.replace('.', ','))\n",
    "df['GENRE'] = df['GENRE'].apply(lambda x: x.rstrip(','))\n",
    "\n",
    "# Fixes point 2\n",
    "df['GENRE'] = df['GENRE'].apply(lambda x: x.replace('II', 'I'))\n",
    "\n",
    "# Fixes point 3\n",
    "df['GENRE'] = df['GENRE'].apply(lambda x: x.replace('THRILER', 'THRILLER'))\n",
    "\n",
    "# Fixes point 5\n",
    "df['GENRE'] = df['GENRE'].apply(lambda x: x.replace('SPORTS', 'SPORT'))\n",
    "\n",
    "# Fixes point 6\n",
    "\n",
    "# There are some rows where there is the value `MUSICAL` and some with `MUSIC`, we combine them into one category.\n",
    "df['GENRE'] = df['GENRE'].apply(lambda x: x.replace('MUSICAL', 'MUSIC'))\n",
    "# I prefer the name `MUSICAL` over `MUSIC`, so I replace it back. Now all the movies with genre `MUSIC` are `MUSICAL`\n",
    "# and all the movies with genre `MUSICAL` are still `MUSICAL`.\n",
    "df['GENRE'] = df['GENRE'].apply(lambda x: x.replace('MUSIC', 'MUSICAL'))\n",
    "\n",
    "# Fixes point 4\n",
    "\n",
    "# There are some rows where there is a typo `HORRO` instead of `HORROR`\n",
    "# replacing it `HORROR` with `HORRO` and then back to `HORROR` is a\n",
    "# quick fix to avoid more complicated code. The result is\n",
    "# all the movies that had either `HORRO` or `HORROR` are now `HORROR`.\n",
    "df['GENRE'] = df['GENRE'].apply(lambda x: x.replace('HORROR', 'HORRO'))\n",
    "df['GENRE'] = df['GENRE'].apply(lambda x: x.replace('HORRO', 'HORROR'))\n"
   ],
   "metadata": {
    "collapsed": false,
    "ExecuteTime": {
     "end_time": "2023-12-16T16:33:48.044203700Z",
     "start_time": "2023-12-16T16:33:47.824855700Z"
    }
   },
   "id": "7415bb74fb984df4"
  },
  {
   "cell_type": "code",
   "execution_count": 300,
   "outputs": [],
   "source": [
    "# We would like to transform this column into one-hot encoding, but we know that a movie can have multiple genres. So instead of one-hot encoding , we will use multiple-hot encoding. For each unique genre a column will be created and if a movie has that genre then the value of the column will be `True` else `False`.\n",
    "for i in df.index:\n",
    "    for genre in df.loc[i, 'GENRE'].split(','):\n",
    "        genre = genre.strip()\n",
    "        df.loc[i, f\"GENRE_{genre.replace(' ', '_')}\"] = True\n",
    "\n",
    "\n",
    "# We also drop the `GENRE` column because we don't need it anymore.\n",
    "df.drop(columns=['GENRE'], inplace=True)\n",
    "\n",
    "# We fill the NaN values with False.\n",
    "for col in df.columns:\n",
    "    if col.startswith('GENRE'):\n",
    "        df[col] = df[col].fillna(False)"
   ],
   "metadata": {
    "collapsed": false,
    "ExecuteTime": {
     "end_time": "2023-12-16T16:33:48.283521100Z",
     "start_time": "2023-12-16T16:33:47.841874400Z"
    }
   },
   "id": "6575600ac2d36131"
  },
  {
   "cell_type": "code",
   "execution_count": 301,
   "outputs": [
    {
     "data": {
      "text/plain": "                          TITLE  RELEASE_YEAR  RT_CRITICS  MC_CRITICS  \\\n0                           300          2007          60          51   \n1                  3:10 to Yuma          2007          88          76   \n2              30 Days of Night          2007          50          53   \n3           Across the Universe          2007          54          56   \n4  Alien vs. Predator - Requiem          2007          14          29   \n\n   RT_AUDIENCE  MC_AUDIENCE  OPENING_WEEKEND  DOMESTIC_GROSS  FOREIGN_GROSS  \\\n0         89.0           71         70885301       210614939      245453242   \n1         86.0           73         14035033        53606916       16173815   \n2         56.0           65         15951902        39568996       35526091   \n3         82.0           73          3824988        24343673        5023470   \n4         31.0           45         10059425        41797066       87086650   \n\n   WORLDWIDE_GROSS  ...  GENRE_WAR  GENRE_THRILLER  GENRE_FANTASY  \\\n0        456068181  ...      False           False          False   \n1         69780731  ...      False           False          False   \n2         75095087  ...      False           False          False   \n3         29367143  ...      False           False          False   \n4        128883716  ...      False           False          False   \n\n  GENRE_ADVENTURE  GENRE_ROMANTIC_COMEDY GENRE_ROMANCE  GENRE_DOCUMENTARY  \\\n0           False                  False         False              False   \n1           False                  False         False              False   \n2           False                  False         False              False   \n3           False                  False         False              False   \n4           False                  False         False              False   \n\n   GENRE_BIOGRAPHY  GENRE_HISTORY  GENRE_MYSTERY  \n0            False          False          False  \n1            False          False          False  \n2            False          False          False  \n3            False          False          False  \n4            False          False          False  \n\n[5 rows x 45 columns]",
      "text/html": "<div>\n<style scoped>\n    .dataframe tbody tr th:only-of-type {\n        vertical-align: middle;\n    }\n\n    .dataframe tbody tr th {\n        vertical-align: top;\n    }\n\n    .dataframe thead th {\n        text-align: right;\n    }\n</style>\n<table border=\"1\" class=\"dataframe\">\n  <thead>\n    <tr style=\"text-align: right;\">\n      <th></th>\n      <th>TITLE</th>\n      <th>RELEASE_YEAR</th>\n      <th>RT_CRITICS</th>\n      <th>MC_CRITICS</th>\n      <th>RT_AUDIENCE</th>\n      <th>MC_AUDIENCE</th>\n      <th>OPENING_WEEKEND</th>\n      <th>DOMESTIC_GROSS</th>\n      <th>FOREIGN_GROSS</th>\n      <th>WORLDWIDE_GROSS</th>\n      <th>...</th>\n      <th>GENRE_WAR</th>\n      <th>GENRE_THRILLER</th>\n      <th>GENRE_FANTASY</th>\n      <th>GENRE_ADVENTURE</th>\n      <th>GENRE_ROMANTIC_COMEDY</th>\n      <th>GENRE_ROMANCE</th>\n      <th>GENRE_DOCUMENTARY</th>\n      <th>GENRE_BIOGRAPHY</th>\n      <th>GENRE_HISTORY</th>\n      <th>GENRE_MYSTERY</th>\n    </tr>\n  </thead>\n  <tbody>\n    <tr>\n      <th>0</th>\n      <td>300</td>\n      <td>2007</td>\n      <td>60</td>\n      <td>51</td>\n      <td>89.0</td>\n      <td>71</td>\n      <td>70885301</td>\n      <td>210614939</td>\n      <td>245453242</td>\n      <td>456068181</td>\n      <td>...</td>\n      <td>False</td>\n      <td>False</td>\n      <td>False</td>\n      <td>False</td>\n      <td>False</td>\n      <td>False</td>\n      <td>False</td>\n      <td>False</td>\n      <td>False</td>\n      <td>False</td>\n    </tr>\n    <tr>\n      <th>1</th>\n      <td>3:10 to Yuma</td>\n      <td>2007</td>\n      <td>88</td>\n      <td>76</td>\n      <td>86.0</td>\n      <td>73</td>\n      <td>14035033</td>\n      <td>53606916</td>\n      <td>16173815</td>\n      <td>69780731</td>\n      <td>...</td>\n      <td>False</td>\n      <td>False</td>\n      <td>False</td>\n      <td>False</td>\n      <td>False</td>\n      <td>False</td>\n      <td>False</td>\n      <td>False</td>\n      <td>False</td>\n      <td>False</td>\n    </tr>\n    <tr>\n      <th>2</th>\n      <td>30 Days of Night</td>\n      <td>2007</td>\n      <td>50</td>\n      <td>53</td>\n      <td>56.0</td>\n      <td>65</td>\n      <td>15951902</td>\n      <td>39568996</td>\n      <td>35526091</td>\n      <td>75095087</td>\n      <td>...</td>\n      <td>False</td>\n      <td>False</td>\n      <td>False</td>\n      <td>False</td>\n      <td>False</td>\n      <td>False</td>\n      <td>False</td>\n      <td>False</td>\n      <td>False</td>\n      <td>False</td>\n    </tr>\n    <tr>\n      <th>3</th>\n      <td>Across the Universe</td>\n      <td>2007</td>\n      <td>54</td>\n      <td>56</td>\n      <td>82.0</td>\n      <td>73</td>\n      <td>3824988</td>\n      <td>24343673</td>\n      <td>5023470</td>\n      <td>29367143</td>\n      <td>...</td>\n      <td>False</td>\n      <td>False</td>\n      <td>False</td>\n      <td>False</td>\n      <td>False</td>\n      <td>False</td>\n      <td>False</td>\n      <td>False</td>\n      <td>False</td>\n      <td>False</td>\n    </tr>\n    <tr>\n      <th>4</th>\n      <td>Alien vs. Predator - Requiem</td>\n      <td>2007</td>\n      <td>14</td>\n      <td>29</td>\n      <td>31.0</td>\n      <td>45</td>\n      <td>10059425</td>\n      <td>41797066</td>\n      <td>87086650</td>\n      <td>128883716</td>\n      <td>...</td>\n      <td>False</td>\n      <td>False</td>\n      <td>False</td>\n      <td>False</td>\n      <td>False</td>\n      <td>False</td>\n      <td>False</td>\n      <td>False</td>\n      <td>False</td>\n      <td>False</td>\n    </tr>\n  </tbody>\n</table>\n<p>5 rows × 45 columns</p>\n</div>"
     },
     "execution_count": 301,
     "metadata": {},
     "output_type": "execute_result"
    }
   ],
   "source": [
    "df.head()"
   ],
   "metadata": {
    "collapsed": false,
    "ExecuteTime": {
     "end_time": "2023-12-16T16:33:48.283521100Z",
     "start_time": "2023-12-16T16:33:48.053479500Z"
    }
   },
   "id": "e5ac7c65e3e229b5"
  },
  {
   "cell_type": "markdown",
   "source": [
    "## Part 2: Data Scrapping\n",
    "In this part I tried to find data on the internet to fill the `WON_OSCAR` column and the `IMDB_RATING` column.\n",
    "On <a href=\"#Part-3:-Data-Cleaning\">Part 3: Data Cleaning</a> we will see how much this data has filled the dataset.\n",
    "\n",
    "##### Note: The code for this port of the assignment is in the file `create_additional_data.py`"
   ],
   "metadata": {
    "collapsed": false
   },
   "id": "97b9de17fd332d0f"
  },
  {
   "cell_type": "markdown",
   "source": [
    "#### WON_OSCAR\n",
    "The best data I could find about Oscar Winners is <a href=\"https://github.com/AminFadaee/Academy-Awards-Data\">this github repository</a> that has data about the Oscars from 1929-2022. The data is given in separate .json files that have the name `{yearOfOscars}.json`. To make this data easier to handle I parsed all the .json files and created a single .csv file with all the data `data/oscars.csv`."
   ],
   "metadata": {
    "collapsed": false
   },
   "id": "2196e8bcbbfd878a"
  },
  {
   "cell_type": "code",
   "execution_count": 302,
   "outputs": [
    {
     "data": {
      "text/plain": "      year                  winners                         category\n0     1929            Emil Jannings     Best Actor in a Leading Role\n1     1929             Janet Gaynor   Best Actress in a Leading Role\n2     1929                  Tempest               Best Art Direction\n3     1929                  Sunrise              Best Cinematography\n4     1929          Lewis Milestone    Best Director, Comedy Picture\n...    ...                      ...                              ...\n2095  2022  The Queen of Basketball   Best Documentary Short Subject\n2096  2022                  Encanto       Best Animated Feature Film\n2097  2022     The Windshield Wiper         Best Animated Short Film\n2098  2022         The Long Goodbye      Best Live Action Short Film\n2099  2022             Drive My Car  Best International Feature Film\n\n[2100 rows x 3 columns]",
      "text/html": "<div>\n<style scoped>\n    .dataframe tbody tr th:only-of-type {\n        vertical-align: middle;\n    }\n\n    .dataframe tbody tr th {\n        vertical-align: top;\n    }\n\n    .dataframe thead th {\n        text-align: right;\n    }\n</style>\n<table border=\"1\" class=\"dataframe\">\n  <thead>\n    <tr style=\"text-align: right;\">\n      <th></th>\n      <th>year</th>\n      <th>winners</th>\n      <th>category</th>\n    </tr>\n  </thead>\n  <tbody>\n    <tr>\n      <th>0</th>\n      <td>1929</td>\n      <td>Emil Jannings</td>\n      <td>Best Actor in a Leading Role</td>\n    </tr>\n    <tr>\n      <th>1</th>\n      <td>1929</td>\n      <td>Janet Gaynor</td>\n      <td>Best Actress in a Leading Role</td>\n    </tr>\n    <tr>\n      <th>2</th>\n      <td>1929</td>\n      <td>Tempest</td>\n      <td>Best Art Direction</td>\n    </tr>\n    <tr>\n      <th>3</th>\n      <td>1929</td>\n      <td>Sunrise</td>\n      <td>Best Cinematography</td>\n    </tr>\n    <tr>\n      <th>4</th>\n      <td>1929</td>\n      <td>Lewis Milestone</td>\n      <td>Best Director, Comedy Picture</td>\n    </tr>\n    <tr>\n      <th>...</th>\n      <td>...</td>\n      <td>...</td>\n      <td>...</td>\n    </tr>\n    <tr>\n      <th>2095</th>\n      <td>2022</td>\n      <td>The Queen of Basketball</td>\n      <td>Best Documentary Short Subject</td>\n    </tr>\n    <tr>\n      <th>2096</th>\n      <td>2022</td>\n      <td>Encanto</td>\n      <td>Best Animated Feature Film</td>\n    </tr>\n    <tr>\n      <th>2097</th>\n      <td>2022</td>\n      <td>The Windshield Wiper</td>\n      <td>Best Animated Short Film</td>\n    </tr>\n    <tr>\n      <th>2098</th>\n      <td>2022</td>\n      <td>The Long Goodbye</td>\n      <td>Best Live Action Short Film</td>\n    </tr>\n    <tr>\n      <th>2099</th>\n      <td>2022</td>\n      <td>Drive My Car</td>\n      <td>Best International Feature Film</td>\n    </tr>\n  </tbody>\n</table>\n<p>2100 rows × 3 columns</p>\n</div>"
     },
     "execution_count": 302,
     "metadata": {},
     "output_type": "execute_result"
    }
   ],
   "source": [
    "oscars = pd.read_csv(\"data/oscars.csv\")\n",
    "oscars"
   ],
   "metadata": {
    "collapsed": false,
    "ExecuteTime": {
     "end_time": "2023-12-16T16:33:48.284494Z",
     "start_time": "2023-12-16T16:33:48.088806600Z"
    }
   },
   "id": "fdc70c3263cafb55"
  },
  {
   "cell_type": "markdown",
   "source": [
    "#### IMDB_RATING\n",
    "For IMDB_RATINGS I couldn't find any good static data, and the official IMDb APIs are either paid or deprecated. I found this <a href=\"https://www.omdbapi.com\"/>API</a> which might not be the best (because it has a free daily limit of only 1000 movies and the dataset is 1402, so we have to either split the imdb data filling into 2 days , or generate 2 api keys) but it simple enough for our use case.\n",
    "\n",
    "I created a function (`create_enhanced_movie_data_csv`) that reads all the movie dataset given for the assignment to get the title which is needed for the api. Then a new csv `imdb_ratings.csv` is created with the data from the api. If any movies are not found by the api then they are written to a file `not_found.csv` so that we can manually search for them and to let us know how many columns will have a missing value on imdb.\n",
    "\n",
    "The function is also made to be rerun, because as said before, the api is kind of limited, and we might need to run it multiple times to get all the data.\n",
    "\n",
    "The data set that the api returns also has much more data about the movies (Who wrote the movie, who directed the movie, what the length of the movie is, etc.), we could use this data to fill in more columns, but I decided it's out of the scope of this assignment."
   ],
   "metadata": {
    "collapsed": false
   },
   "id": "6a6cee31c47bcb38"
  },
  {
   "cell_type": "code",
   "execution_count": 303,
   "outputs": [
    {
     "data": {
      "text/plain": "                                  Title  Year  Rated     Released  Runtime  \\\n0                                   300  2006      R  09 Mar 2007  117 min   \n1                          3:10 to Yuma  2007      R  07 Sep 2007  122 min   \n2                      30 Days of Night  2007      R  19 Oct 2007  113 min   \n3                   Across the Universe  2007  PG-13  12 Oct 2007  133 min   \n4  95: Alien vs Predator Requiem (2007)  2007    NaN  03 Mar 2023      NaN   \n\n                      Genre       Director  \\\n0             Action, Drama    Zack Snyder   \n1      Action, Crime, Drama  James Mangold   \n2  Action, Horror, Thriller    David Slade   \n3   Drama, Fantasy, History   Julie Taymor   \n4                       NaN            NaN   \n\n                                          Writer  \\\n0  Zack Snyder, Kurt Johnstad, Michael B. Gordon   \n1     Halsted Welles, Michael Brandt, Derek Haas   \n2      Steve Niles, Stuart Beattie, Brian Nelson   \n3     Dick Clement, Ian La Frenais, Julie Taymor   \n4                                            NaN   \n\n                                         Actors  \\\n0      Gerard Butler, Lena Headey, David Wenham   \n1     Russell Crowe, Christian Bale, Ben Foster   \n2   Josh Hartnett, Melissa George, Danny Huston   \n3  Evan Rachel Wood, Jim Sturgess, Joe Anderson   \n4                                           NaN   \n\n                                                Plot  ... Metascore  \\\n0  King Leonidas of Sparta and a force of 300 men...  ...      52.0   \n1  A small-time rancher agrees to hold a captured...  ...      76.0   \n2  After an Alaskan town is plunged into darkness...  ...      53.0   \n3  The music of The Beatles and the Vietnam War f...  ...      56.0   \n4                                                NaN  ...       NaN   \n\n  imdbRating imdbVotes      imdbID   Type          DVD     BoxOffice  \\\n0        7.6   849,296   tt0416449  movie  28 Apr 2009  $210,629,101   \n1        7.7   325,961   tt0381849  movie  14 Dec 2015   $53,606,916   \n2        6.6   185,865   tt0389722  movie  12 Feb 2014   $39,569,000   \n3        7.3   113,299   tt0445922  movie  01 Jan 2013   $24,602,291   \n4        NaN       NaN  tt27007263  movie          NaN           NaN   \n\n  Production Website Response  \n0        NaN     NaN     True  \n1        NaN     NaN     True  \n2        NaN     NaN     True  \n3        NaN     NaN     True  \n4        NaN     NaN     True  \n\n[5 rows x 25 columns]",
      "text/html": "<div>\n<style scoped>\n    .dataframe tbody tr th:only-of-type {\n        vertical-align: middle;\n    }\n\n    .dataframe tbody tr th {\n        vertical-align: top;\n    }\n\n    .dataframe thead th {\n        text-align: right;\n    }\n</style>\n<table border=\"1\" class=\"dataframe\">\n  <thead>\n    <tr style=\"text-align: right;\">\n      <th></th>\n      <th>Title</th>\n      <th>Year</th>\n      <th>Rated</th>\n      <th>Released</th>\n      <th>Runtime</th>\n      <th>Genre</th>\n      <th>Director</th>\n      <th>Writer</th>\n      <th>Actors</th>\n      <th>Plot</th>\n      <th>...</th>\n      <th>Metascore</th>\n      <th>imdbRating</th>\n      <th>imdbVotes</th>\n      <th>imdbID</th>\n      <th>Type</th>\n      <th>DVD</th>\n      <th>BoxOffice</th>\n      <th>Production</th>\n      <th>Website</th>\n      <th>Response</th>\n    </tr>\n  </thead>\n  <tbody>\n    <tr>\n      <th>0</th>\n      <td>300</td>\n      <td>2006</td>\n      <td>R</td>\n      <td>09 Mar 2007</td>\n      <td>117 min</td>\n      <td>Action, Drama</td>\n      <td>Zack Snyder</td>\n      <td>Zack Snyder, Kurt Johnstad, Michael B. Gordon</td>\n      <td>Gerard Butler, Lena Headey, David Wenham</td>\n      <td>King Leonidas of Sparta and a force of 300 men...</td>\n      <td>...</td>\n      <td>52.0</td>\n      <td>7.6</td>\n      <td>849,296</td>\n      <td>tt0416449</td>\n      <td>movie</td>\n      <td>28 Apr 2009</td>\n      <td>$210,629,101</td>\n      <td>NaN</td>\n      <td>NaN</td>\n      <td>True</td>\n    </tr>\n    <tr>\n      <th>1</th>\n      <td>3:10 to Yuma</td>\n      <td>2007</td>\n      <td>R</td>\n      <td>07 Sep 2007</td>\n      <td>122 min</td>\n      <td>Action, Crime, Drama</td>\n      <td>James Mangold</td>\n      <td>Halsted Welles, Michael Brandt, Derek Haas</td>\n      <td>Russell Crowe, Christian Bale, Ben Foster</td>\n      <td>A small-time rancher agrees to hold a captured...</td>\n      <td>...</td>\n      <td>76.0</td>\n      <td>7.7</td>\n      <td>325,961</td>\n      <td>tt0381849</td>\n      <td>movie</td>\n      <td>14 Dec 2015</td>\n      <td>$53,606,916</td>\n      <td>NaN</td>\n      <td>NaN</td>\n      <td>True</td>\n    </tr>\n    <tr>\n      <th>2</th>\n      <td>30 Days of Night</td>\n      <td>2007</td>\n      <td>R</td>\n      <td>19 Oct 2007</td>\n      <td>113 min</td>\n      <td>Action, Horror, Thriller</td>\n      <td>David Slade</td>\n      <td>Steve Niles, Stuart Beattie, Brian Nelson</td>\n      <td>Josh Hartnett, Melissa George, Danny Huston</td>\n      <td>After an Alaskan town is plunged into darkness...</td>\n      <td>...</td>\n      <td>53.0</td>\n      <td>6.6</td>\n      <td>185,865</td>\n      <td>tt0389722</td>\n      <td>movie</td>\n      <td>12 Feb 2014</td>\n      <td>$39,569,000</td>\n      <td>NaN</td>\n      <td>NaN</td>\n      <td>True</td>\n    </tr>\n    <tr>\n      <th>3</th>\n      <td>Across the Universe</td>\n      <td>2007</td>\n      <td>PG-13</td>\n      <td>12 Oct 2007</td>\n      <td>133 min</td>\n      <td>Drama, Fantasy, History</td>\n      <td>Julie Taymor</td>\n      <td>Dick Clement, Ian La Frenais, Julie Taymor</td>\n      <td>Evan Rachel Wood, Jim Sturgess, Joe Anderson</td>\n      <td>The music of The Beatles and the Vietnam War f...</td>\n      <td>...</td>\n      <td>56.0</td>\n      <td>7.3</td>\n      <td>113,299</td>\n      <td>tt0445922</td>\n      <td>movie</td>\n      <td>01 Jan 2013</td>\n      <td>$24,602,291</td>\n      <td>NaN</td>\n      <td>NaN</td>\n      <td>True</td>\n    </tr>\n    <tr>\n      <th>4</th>\n      <td>95: Alien vs Predator Requiem (2007)</td>\n      <td>2007</td>\n      <td>NaN</td>\n      <td>03 Mar 2023</td>\n      <td>NaN</td>\n      <td>NaN</td>\n      <td>NaN</td>\n      <td>NaN</td>\n      <td>NaN</td>\n      <td>NaN</td>\n      <td>...</td>\n      <td>NaN</td>\n      <td>NaN</td>\n      <td>NaN</td>\n      <td>tt27007263</td>\n      <td>movie</td>\n      <td>NaN</td>\n      <td>NaN</td>\n      <td>NaN</td>\n      <td>NaN</td>\n      <td>True</td>\n    </tr>\n  </tbody>\n</table>\n<p>5 rows × 25 columns</p>\n</div>"
     },
     "execution_count": 303,
     "metadata": {},
     "output_type": "execute_result"
    }
   ],
   "source": [
    "imdb = pd.read_csv(\"data/imdb_ratings.csv\")\n",
    "imdb.head()   "
   ],
   "metadata": {
    "collapsed": false,
    "ExecuteTime": {
     "end_time": "2023-12-16T16:33:48.343690500Z",
     "start_time": "2023-12-16T16:33:48.116849700Z"
    }
   },
   "id": "d0fbf19269a50d79"
  },
  {
   "cell_type": "markdown",
   "source": [
    "## Part 3: Data Filling\n",
    "\n",
    "In this part we will build on the previous parts and fill in the missing values of the dataset.\n",
    "\n",
    "First let's see what the percentage of Oscar Winners is in the dataset."
   ],
   "metadata": {
    "collapsed": false
   },
   "id": "9082914e57e6d0da"
  },
  {
   "cell_type": "code",
   "execution_count": 304,
   "outputs": [
    {
     "name": "stdout",
     "output_type": "stream",
     "text": [
      "Percentage of Oscar Winners in the Dataset : 3.997%\n"
     ]
    },
    {
     "data": {
      "text/plain": "WON_OSCAR\nFalse    1345\nTrue       56\nName: TITLE, dtype: int64"
     },
     "metadata": {},
     "output_type": "display_data"
    }
   ],
   "source": [
    "def calculate_percentage_of_oscar_winners():\n",
    "    percentage_of_not_nan = df[df['WON_OSCAR'] == True]['WON_OSCAR'].count() / len(df) * 100\n",
    "    print(f\"Percentage of Oscar Winners in the Dataset : {percentage_of_not_nan:.4}%\")\n",
    "    display(df.groupby('WON_OSCAR').count()['TITLE'])\n",
    "    \n",
    "calculate_percentage_of_oscar_winners()"
   ],
   "metadata": {
    "collapsed": false,
    "ExecuteTime": {
     "end_time": "2023-12-16T16:33:48.344621300Z",
     "start_time": "2023-12-16T16:33:48.164275400Z"
    }
   },
   "id": "4c808133cc80493c"
  },
  {
   "cell_type": "code",
   "execution_count": 305,
   "outputs": [],
   "source": [
    "# Now let's try to fill data in our dataset from the oscar dataset we built in Part 2\n",
    "# I fill with any movie that was found in my oscars dataset if it didn't\n",
    "# already have an oscar assigned from the original dataset.\n",
    "for i, film in enumerate(df['TITLE']):\n",
    "    if not df.loc[i, 'WON_OSCAR']:\n",
    "        if film in oscars['winners'].values:\n",
    "            df.loc[i, 'WON_OSCAR'] = True\n",
    "            df.loc[i, 'OSCAR_DETAILS'] = oscars[oscars['winners'] == film]['category'].iloc[0]\n",
    "\n",
    "# If a movie has oscar details, then it has won an oscar.\n",
    "have_oscar_details = ~pd.isna(df['OSCAR_DETAILS'])\n",
    "has_not_won_oscar = ~df['WON_OSCAR']\n",
    "df.loc[have_oscar_details & has_not_won_oscar, 'WON_OSCAR'] = True"
   ],
   "metadata": {
    "collapsed": false,
    "ExecuteTime": {
     "end_time": "2023-12-16T16:33:48.345941300Z",
     "start_time": "2023-12-16T16:33:48.177562500Z"
    }
   },
   "id": "128f33e6d13abb34"
  },
  {
   "cell_type": "code",
   "execution_count": 306,
   "outputs": [
    {
     "name": "stdout",
     "output_type": "stream",
     "text": [
      "Percentage of Oscar Winners in the Dataset : 6.638%\n"
     ]
    },
    {
     "data": {
      "text/plain": "WON_OSCAR\nFalse    1308\nTrue       93\nName: TITLE, dtype: int64"
     },
     "metadata": {},
     "output_type": "display_data"
    }
   ],
   "source": [
    "# Now if we printr the percentage of oscar winners in the dataset we can see that it has increased by \n",
    "\n",
    "calculate_percentage_of_oscar_winners()\n"
   ],
   "metadata": {
    "collapsed": false,
    "ExecuteTime": {
     "end_time": "2023-12-16T16:33:48.389862600Z",
     "start_time": "2023-12-16T16:33:48.271328200Z"
    }
   },
   "id": "3358f15a19623195"
  },
  {
   "cell_type": "markdown",
   "source": [
    "An increase of 2.641% which might seem small, but for the small amount of data we have means that our data is that much more accurate, and when we are training our models with such little data and such an inbalanced dataset, every little bit helps.\n",
    "\n",
    "<hr>\n",
    "\n",
    "Now let's go back to this <a href=\"#Columns-dropped-because-of-reasons-above\">part</a> where we said that we drop some of the columns because they are calculable. We will now calculate them and add them back to the dataset."
   ],
   "metadata": {
    "collapsed": false
   },
   "id": "c6981e7d2344e6cc"
  },
  {
   "cell_type": "code",
   "execution_count": 307,
   "outputs": [],
   "source": [
    "df['%OF_GROSS_EARNED_ABROAD'] =\\\n",
    "    (df['FOREIGN_GROSS'] / df['WORLDWIDE_GROSS']) * 100\n",
    "\n",
    "# The movie 'Life as We Know It' had a budget of `52.274.000.000$` according to the dataset.\n",
    "# This is obviously wrong, so we will fill the data with the correct budget of `38.000.000`\n",
    "# (https://www.google.com/search?q=Life+as+We+Know+It+budget&oq=life&gs_lcrp=EgZjaHJvbWUqCAgAEEUYJxg7MggIABBFGCcYOzIHCAEQLhiABDIHCAIQLhiABDIHCAMQLhiABDIHCAQQLhiABDIGCAUQRRg9MgYIBhBFGD0yBggHEEUYPdIBCDM2MzhqMGo5qAIAsAIA&sourceid=chrome&ie=UTF-8)\n",
    "try:\n",
    "    df.loc[df.index[df['TITLE'] == 'Life as We Know It'][0], 'BUDGET'] = 38\n",
    "except Exception as e:\n",
    "    print(e)\n",
    "    \n",
    "# We multiply by 1_000_000 because on the original dataset the budget's unit of measurement is in millions of dollars. We would prefer consistent units of measurement and as the rest of the units of measurement are in dollars, we will multiply by 1_000_000 to get the budget in dollars.\n",
    "df['BUDGET'] = df['BUDGET'].map(lambda x: x * 1_000_000)\n",
    "\n",
    "df['%BUDGET_RECOVERED'] = (df['WORLDWIDE_GROSS'] / df['BUDGET']) * 100\n",
    "\n",
    "df['%BUDGET_RECOVERED_OPENING_WEEKEND'] =\\\n",
    "    (df['OPENING_WEEKEND'] / df['BUDGET']) * 100\n",
    "\n",
    "df['AVERAGE_CRITICS'] = (df['RT_CRITICS'] + df['MC_CRITICS']) / 2\n",
    "\n",
    "df['AVERAGE_AUDIENCE'] = (df['RT_AUDIENCE'] + df['MC_AUDIENCE']) / 2\n",
    "\n",
    "df['RT_MC_AUDIENCE_DIFFERENCE'] = df['RT_AUDIENCE'] - df['MC_AUDIENCE']\n",
    "\n",
    "df['CRITICS_AUDIENCE_DIFFERENCE'] =\\\n",
    "    df['AVERAGE_CRITICS'] - df['AVERAGE_AUDIENCE']"
   ],
   "metadata": {
    "collapsed": false,
    "ExecuteTime": {
     "end_time": "2023-12-16T16:33:48.410067500Z",
     "start_time": "2023-12-16T16:33:48.290706100Z"
    }
   },
   "id": "ad59ad58a8df75c7"
  },
  {
   "cell_type": "markdown",
   "source": [
    "We can see that the column `RELEASE DATE (US)` we have month day and year, we already have the year in the column `RELEASE_YEAR`. I think it would be desirable to split the column into 3 columns `RELEASE_MONTH`, `RELEASE_DAY`, `RELEASE_YEAR` which would be convenient for the model we will train later."
   ],
   "metadata": {
    "collapsed": false
   },
   "id": "a14ff56a3528a9f"
  },
  {
   "cell_type": "code",
   "execution_count": 308,
   "outputs": [],
   "source": [
    "# We will split the release date into two columns, one for the month and one for the day.\n",
    "temp_date = pd.to_datetime(df['RELEASE DATE (US)'], format='mixed')\n",
    "df['RELEASE_MONTH'] = temp_date.dt.month\n",
    "df['RELEASE_DAY'] = temp_date.dt.day\n",
    "\n",
    "# We drop the original column because we don't need it anymore.\n",
    "df = df.drop(columns=\"RELEASE DATE (US)\")"
   ],
   "metadata": {
    "collapsed": false,
    "ExecuteTime": {
     "end_time": "2023-12-16T16:33:48.618452700Z",
     "start_time": "2023-12-16T16:33:48.301830800Z"
    }
   },
   "id": "e3451511938d67c8"
  },
  {
   "cell_type": "code",
   "execution_count": 309,
   "outputs": [
    {
     "data": {
      "text/plain": "   RELEASE_MONTH  RELEASE_DAY  RELEASE_YEAR\n0              3            9          2007\n1              9            7          2007\n2             10           19          2007\n3             10           12          2007\n4             12           25          2007",
      "text/html": "<div>\n<style scoped>\n    .dataframe tbody tr th:only-of-type {\n        vertical-align: middle;\n    }\n\n    .dataframe tbody tr th {\n        vertical-align: top;\n    }\n\n    .dataframe thead th {\n        text-align: right;\n    }\n</style>\n<table border=\"1\" class=\"dataframe\">\n  <thead>\n    <tr style=\"text-align: right;\">\n      <th></th>\n      <th>RELEASE_MONTH</th>\n      <th>RELEASE_DAY</th>\n      <th>RELEASE_YEAR</th>\n    </tr>\n  </thead>\n  <tbody>\n    <tr>\n      <th>0</th>\n      <td>3</td>\n      <td>9</td>\n      <td>2007</td>\n    </tr>\n    <tr>\n      <th>1</th>\n      <td>9</td>\n      <td>7</td>\n      <td>2007</td>\n    </tr>\n    <tr>\n      <th>2</th>\n      <td>10</td>\n      <td>19</td>\n      <td>2007</td>\n    </tr>\n    <tr>\n      <th>3</th>\n      <td>10</td>\n      <td>12</td>\n      <td>2007</td>\n    </tr>\n    <tr>\n      <th>4</th>\n      <td>12</td>\n      <td>25</td>\n      <td>2007</td>\n    </tr>\n  </tbody>\n</table>\n</div>"
     },
     "execution_count": 309,
     "metadata": {},
     "output_type": "execute_result"
    }
   ],
   "source": [
    "df[['RELEASE_MONTH', 'RELEASE_DAY', 'RELEASE_YEAR']].head()"
   ],
   "metadata": {
    "collapsed": false,
    "ExecuteTime": {
     "end_time": "2023-12-16T16:33:48.619502900Z",
     "start_time": "2023-12-16T16:33:48.363298400Z"
    }
   },
   "id": "1addc9297df2583d"
  },
  {
   "cell_type": "code",
   "execution_count": 310,
   "outputs": [],
   "source": [
    "# Now let's fill the missing values of the `IMDB_RATING` column\n",
    "for i, film in enumerate(df['TITLE']):\n",
    "    film = str(film)\n",
    "    if film in imdb['Title'].values:\n",
    "        # We do `rating * 10` to bring the imdb rating to the same scale as the rt rating (0-10 -> 0-100)\n",
    "        df.loc[i, 'IMDB_RATING'] =\\\n",
    "            imdb[imdb['Title'] == film]['imdbRating'].iloc[0] * 10\n",
    "        df.loc[i, 'IMDB_RT_DIFFERENCE'] =\\\n",
    "            df.loc[i, 'IMDB_RATING'] - df.loc[i, 'RT_CRITICS']"
   ],
   "metadata": {
    "collapsed": false,
    "ExecuteTime": {
     "end_time": "2023-12-16T16:33:49.119478500Z",
     "start_time": "2023-12-16T16:33:48.383727200Z"
    }
   },
   "id": "5cb6312934bb7c9b"
  },
  {
   "cell_type": "code",
   "execution_count": 311,
   "outputs": [
    {
     "name": "stdout",
     "output_type": "stream",
     "text": [
      "Amount of row filled with imdb data : 1113 / 1401\n"
     ]
    }
   ],
   "source": [
    "x = len(df) - df['IMDB_RATING'].isna().sum()\n",
    "print(f\"Amount of row filled with imdb data : {x} / {len(df)}\")"
   ],
   "metadata": {
    "collapsed": false,
    "ExecuteTime": {
     "end_time": "2023-12-16T16:33:49.137679900Z",
     "start_time": "2023-12-16T16:33:49.121433700Z"
    }
   },
   "id": "d927909737dcbbd2"
  },
  {
   "cell_type": "code",
   "execution_count": 312,
   "outputs": [],
   "source": [
    "# Because IMDb rating will be a core training/testing feature, we need to handle the rest 288 missing values + the missing values of the column `IMDB_RT_DIFFERENCE` that are `NaN` because the `IMDB_RATING` is `NaN`.\n",
    "df['IMDB_RATING'] = df['IMDB_RATING'].fillna(df['IMDB_RATING'].mean())\n",
    "\n",
    "nan_imdb_rt_df = df[df['IMDB_RT_DIFFERENCE'].isna()]\n",
    "df.loc[df['IMDB_RT_DIFFERENCE'].isna(), 'IMDB_RT_DIFFERENCE'] = nan_imdb_rt_df['IMDB_RATING'] - nan_imdb_rt_df['RT_CRITICS']"
   ],
   "metadata": {
    "collapsed": false,
    "ExecuteTime": {
     "end_time": "2023-12-16T16:33:49.179986300Z",
     "start_time": "2023-12-16T16:33:49.141677800Z"
    }
   },
   "id": "9b674700acc59174"
  },
  {
   "cell_type": "code",
   "execution_count": 313,
   "outputs": [
    {
     "name": "stdout",
     "output_type": "stream",
     "text": [
      "Amount of row filled with imdb data : 1401 / 1401\n"
     ]
    }
   ],
   "source": [
    "x = len(df) - df['IMDB_RATING'].isna().sum()\n",
    "print(f\"Amount of row filled with imdb data : {x} / {len(df)}\")"
   ],
   "metadata": {
    "collapsed": false,
    "ExecuteTime": {
     "end_time": "2023-12-16T16:33:49.203328900Z",
     "start_time": "2023-12-16T16:33:49.153896500Z"
    }
   },
   "id": "f16b4a3823ee9e3a"
  },
  {
   "cell_type": "markdown",
   "source": [
    "# B) Data Classification"
   ],
   "metadata": {
    "collapsed": false
   },
   "id": "c64a28c0ec0b08d4"
  }
 ],
 "metadata": {
  "kernelspec": {
   "display_name": "Python 3 (ipykernel)",
   "language": "python",
   "name": "python3"
  },
  "language_info": {
   "codemirror_mode": {
    "name": "ipython",
    "version": 3
   },
   "file_extension": ".py",
   "mimetype": "text/x-python",
   "name": "python",
   "nbconvert_exporter": "python",
   "pygments_lexer": "ipython3",
   "version": "3.10.8"
  }
 },
 "nbformat": 4,
 "nbformat_minor": 5
}
