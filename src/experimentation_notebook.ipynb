{
 "cells": [
  {
   "cell_type": "code",
   "execution_count": 1,
   "id": "initial_id",
   "metadata": {
    "collapsed": true,
    "ExecuteTime": {
     "end_time": "2023-12-03T00:27:25.495157800Z",
     "start_time": "2023-12-03T00:27:25.264296Z"
    }
   },
   "outputs": [],
   "source": [
    "import numpy as np\n",
    "import pandas as pd"
   ]
  },
  {
   "cell_type": "code",
   "execution_count": 2,
   "outputs": [],
   "source": [
    "df = pd.read_excel('../data/movies.xlsx')"
   ],
   "metadata": {
    "collapsed": false,
    "ExecuteTime": {
     "end_time": "2023-12-03T00:27:26.673562500Z",
     "start_time": "2023-12-03T00:27:26.145615200Z"
    }
   },
   "id": "bc90220f3dfb38c0"
  },
  {
   "cell_type": "code",
   "execution_count": 3,
   "outputs": [
    {
     "data": {
      "text/plain": "                                Film  Year          Script Type  \\\n0                                300  2007           adaptation   \n1                       3:10 to Yuma  2007               remake   \n2                   30 Days of Night  2007           adaptation   \n3                Across the Universe  2007  original screenplay   \n4       Alien vs. Predator - Requiem  2007               sequel   \n...                              ...   ...                  ...   \n1397                       Wish Upon  2017  original screenplay   \n1398                          Wonder  2017           adaptation   \n1399                    Wonder Woman  2017           adaptation   \n1400  xXx: The Return of Xander Cage  2017               sequel   \n1401                      Your Name.  2017           adaptation   \n\n     Rotten Tomatoes  critics Metacritic  critics Average critics   \\\n0                          60                  51               56   \n1                          88                  76               82   \n2                          50                  53               52   \n3                          54                  56               55   \n4                          14                  29               22   \n...                       ...                 ...              ...   \n1397                       17                  32               25   \n1398                       85                  66               76   \n1399                       92                  76               84   \n1400                       45                  42               44   \n1401                       97                  79               88   \n\n      Rotten Tomatoes Audience  Metacritic Audience   \\\n0                          89.0                   71   \n1                          86.0                   73   \n2                          56.0                   65   \n3                          82.0                   73   \n4                          31.0                   45   \n...                         ...                  ...   \n1397                       32.0                   40   \n1398                       91.0                   77   \n1399                       89.0                   78   \n1400                       38.0                   48   \n1401                       94.0                   90   \n\n     Rotten Tomatoes vs Metacritic  deviance Average audience   ...  \\\n0                                         18                80  ...   \n1                                         13                80  ...   \n2                                         -9                61  ...   \n3                                          9                78  ...   \n4                                        -14                38  ...   \n...                                      ...               ...  ...   \n1397                                      -8                36  ...   \n1398                                      14                84  ...   \n1399                                      11                84  ...   \n1400                                     -10                43  ...   \n1401                                       4                92  ...   \n\n      of Gross earned abroad Budget ($million)  Budget recovered  \\\n0                     53.82%                65           701.64%   \n1                     23.18%                50           139.56%   \n2                     47.31%                32           234.67%   \n3                     17.11%                45            65.26%   \n4                     67.57%                40           322.21%   \n...                      ...               ...               ...   \n1397                   0.00%                12           119.18%   \n1398                  22.16%                20           661.80%   \n1399                  49.80%               149           551.52%   \n1400                  87.03%                85           407.23%   \n1401                  98.59%                 -                 -   \n\n      Budget recovered opening weekend  Distributor IMDb Rating  \\\n0                              109.05%          NaN         NaN   \n1                               28.07%          NaN         NaN   \n2                               49.85%          NaN         NaN   \n3                                8.50%          NaN         NaN   \n4                               25.15%          NaN         NaN   \n...                                ...          ...         ...   \n1397                            45.56%          NaN         NaN   \n1398                           137.74%          NaN         NaN   \n1399                            69.30%          NaN         NaN   \n1400                            23.68%          NaN         NaN   \n1401                                 -          NaN         NaN   \n\n      IMDB vs RT disparity Release Date (US) Oscar Winners Oscar Detail  \n0                      NaN       Mar 9, 2007           NaN          NaN  \n1                      NaN       Sep 7, 2007           NaN          NaN  \n2                      NaN      Oct 19, 2007           NaN          NaN  \n3                      NaN      Oct 12, 2007           NaN          NaN  \n4                      NaN      Dec 25, 2007           NaN          NaN  \n...                    ...               ...           ...          ...  \n1397                   NaN      Jul 14, 2017           NaN          NaN  \n1398                   NaN      Nov 17, 2017           NaN          NaN  \n1399                   NaN       Jun 2, 2017           NaN          NaN  \n1400                   NaN      Jan 20, 2017           NaN          NaN  \n1401                   NaN       Apr 7, 2017           NaN          NaN  \n\n[1402 rows x 31 columns]",
      "text/html": "<div>\n<style scoped>\n    .dataframe tbody tr th:only-of-type {\n        vertical-align: middle;\n    }\n\n    .dataframe tbody tr th {\n        vertical-align: top;\n    }\n\n    .dataframe thead th {\n        text-align: right;\n    }\n</style>\n<table border=\"1\" class=\"dataframe\">\n  <thead>\n    <tr style=\"text-align: right;\">\n      <th></th>\n      <th>Film</th>\n      <th>Year</th>\n      <th>Script Type</th>\n      <th>Rotten Tomatoes  critics</th>\n      <th>Metacritic  critics</th>\n      <th>Average critics</th>\n      <th>Rotten Tomatoes Audience</th>\n      <th>Metacritic Audience</th>\n      <th>Rotten Tomatoes vs Metacritic  deviance</th>\n      <th>Average audience</th>\n      <th>...</th>\n      <th>of Gross earned abroad</th>\n      <th>Budget ($million)</th>\n      <th>Budget recovered</th>\n      <th>Budget recovered opening weekend</th>\n      <th>Distributor</th>\n      <th>IMDb Rating</th>\n      <th>IMDB vs RT disparity</th>\n      <th>Release Date (US)</th>\n      <th>Oscar Winners</th>\n      <th>Oscar Detail</th>\n    </tr>\n  </thead>\n  <tbody>\n    <tr>\n      <th>0</th>\n      <td>300</td>\n      <td>2007</td>\n      <td>adaptation</td>\n      <td>60</td>\n      <td>51</td>\n      <td>56</td>\n      <td>89.0</td>\n      <td>71</td>\n      <td>18</td>\n      <td>80</td>\n      <td>...</td>\n      <td>53.82%</td>\n      <td>65</td>\n      <td>701.64%</td>\n      <td>109.05%</td>\n      <td>NaN</td>\n      <td>NaN</td>\n      <td>NaN</td>\n      <td>Mar 9, 2007</td>\n      <td>NaN</td>\n      <td>NaN</td>\n    </tr>\n    <tr>\n      <th>1</th>\n      <td>3:10 to Yuma</td>\n      <td>2007</td>\n      <td>remake</td>\n      <td>88</td>\n      <td>76</td>\n      <td>82</td>\n      <td>86.0</td>\n      <td>73</td>\n      <td>13</td>\n      <td>80</td>\n      <td>...</td>\n      <td>23.18%</td>\n      <td>50</td>\n      <td>139.56%</td>\n      <td>28.07%</td>\n      <td>NaN</td>\n      <td>NaN</td>\n      <td>NaN</td>\n      <td>Sep 7, 2007</td>\n      <td>NaN</td>\n      <td>NaN</td>\n    </tr>\n    <tr>\n      <th>2</th>\n      <td>30 Days of Night</td>\n      <td>2007</td>\n      <td>adaptation</td>\n      <td>50</td>\n      <td>53</td>\n      <td>52</td>\n      <td>56.0</td>\n      <td>65</td>\n      <td>-9</td>\n      <td>61</td>\n      <td>...</td>\n      <td>47.31%</td>\n      <td>32</td>\n      <td>234.67%</td>\n      <td>49.85%</td>\n      <td>NaN</td>\n      <td>NaN</td>\n      <td>NaN</td>\n      <td>Oct 19, 2007</td>\n      <td>NaN</td>\n      <td>NaN</td>\n    </tr>\n    <tr>\n      <th>3</th>\n      <td>Across the Universe</td>\n      <td>2007</td>\n      <td>original screenplay</td>\n      <td>54</td>\n      <td>56</td>\n      <td>55</td>\n      <td>82.0</td>\n      <td>73</td>\n      <td>9</td>\n      <td>78</td>\n      <td>...</td>\n      <td>17.11%</td>\n      <td>45</td>\n      <td>65.26%</td>\n      <td>8.50%</td>\n      <td>NaN</td>\n      <td>NaN</td>\n      <td>NaN</td>\n      <td>Oct 12, 2007</td>\n      <td>NaN</td>\n      <td>NaN</td>\n    </tr>\n    <tr>\n      <th>4</th>\n      <td>Alien vs. Predator - Requiem</td>\n      <td>2007</td>\n      <td>sequel</td>\n      <td>14</td>\n      <td>29</td>\n      <td>22</td>\n      <td>31.0</td>\n      <td>45</td>\n      <td>-14</td>\n      <td>38</td>\n      <td>...</td>\n      <td>67.57%</td>\n      <td>40</td>\n      <td>322.21%</td>\n      <td>25.15%</td>\n      <td>NaN</td>\n      <td>NaN</td>\n      <td>NaN</td>\n      <td>Dec 25, 2007</td>\n      <td>NaN</td>\n      <td>NaN</td>\n    </tr>\n    <tr>\n      <th>...</th>\n      <td>...</td>\n      <td>...</td>\n      <td>...</td>\n      <td>...</td>\n      <td>...</td>\n      <td>...</td>\n      <td>...</td>\n      <td>...</td>\n      <td>...</td>\n      <td>...</td>\n      <td>...</td>\n      <td>...</td>\n      <td>...</td>\n      <td>...</td>\n      <td>...</td>\n      <td>...</td>\n      <td>...</td>\n      <td>...</td>\n      <td>...</td>\n      <td>...</td>\n      <td>...</td>\n    </tr>\n    <tr>\n      <th>1397</th>\n      <td>Wish Upon</td>\n      <td>2017</td>\n      <td>original screenplay</td>\n      <td>17</td>\n      <td>32</td>\n      <td>25</td>\n      <td>32.0</td>\n      <td>40</td>\n      <td>-8</td>\n      <td>36</td>\n      <td>...</td>\n      <td>0.00%</td>\n      <td>12</td>\n      <td>119.18%</td>\n      <td>45.56%</td>\n      <td>NaN</td>\n      <td>NaN</td>\n      <td>NaN</td>\n      <td>Jul 14, 2017</td>\n      <td>NaN</td>\n      <td>NaN</td>\n    </tr>\n    <tr>\n      <th>1398</th>\n      <td>Wonder</td>\n      <td>2017</td>\n      <td>adaptation</td>\n      <td>85</td>\n      <td>66</td>\n      <td>76</td>\n      <td>91.0</td>\n      <td>77</td>\n      <td>14</td>\n      <td>84</td>\n      <td>...</td>\n      <td>22.16%</td>\n      <td>20</td>\n      <td>661.80%</td>\n      <td>137.74%</td>\n      <td>NaN</td>\n      <td>NaN</td>\n      <td>NaN</td>\n      <td>Nov 17, 2017</td>\n      <td>NaN</td>\n      <td>NaN</td>\n    </tr>\n    <tr>\n      <th>1399</th>\n      <td>Wonder Woman</td>\n      <td>2017</td>\n      <td>adaptation</td>\n      <td>92</td>\n      <td>76</td>\n      <td>84</td>\n      <td>89.0</td>\n      <td>78</td>\n      <td>11</td>\n      <td>84</td>\n      <td>...</td>\n      <td>49.80%</td>\n      <td>149</td>\n      <td>551.52%</td>\n      <td>69.30%</td>\n      <td>NaN</td>\n      <td>NaN</td>\n      <td>NaN</td>\n      <td>Jun 2, 2017</td>\n      <td>NaN</td>\n      <td>NaN</td>\n    </tr>\n    <tr>\n      <th>1400</th>\n      <td>xXx: The Return of Xander Cage</td>\n      <td>2017</td>\n      <td>sequel</td>\n      <td>45</td>\n      <td>42</td>\n      <td>44</td>\n      <td>38.0</td>\n      <td>48</td>\n      <td>-10</td>\n      <td>43</td>\n      <td>...</td>\n      <td>87.03%</td>\n      <td>85</td>\n      <td>407.23%</td>\n      <td>23.68%</td>\n      <td>NaN</td>\n      <td>NaN</td>\n      <td>NaN</td>\n      <td>Jan 20, 2017</td>\n      <td>NaN</td>\n      <td>NaN</td>\n    </tr>\n    <tr>\n      <th>1401</th>\n      <td>Your Name.</td>\n      <td>2017</td>\n      <td>adaptation</td>\n      <td>97</td>\n      <td>79</td>\n      <td>88</td>\n      <td>94.0</td>\n      <td>90</td>\n      <td>4</td>\n      <td>92</td>\n      <td>...</td>\n      <td>98.59%</td>\n      <td>-</td>\n      <td>-</td>\n      <td>-</td>\n      <td>NaN</td>\n      <td>NaN</td>\n      <td>NaN</td>\n      <td>Apr 7, 2017</td>\n      <td>NaN</td>\n      <td>NaN</td>\n    </tr>\n  </tbody>\n</table>\n<p>1402 rows × 31 columns</p>\n</div>"
     },
     "execution_count": 3,
     "metadata": {},
     "output_type": "execute_result"
    }
   ],
   "source": [
    "df"
   ],
   "metadata": {
    "collapsed": false,
    "ExecuteTime": {
     "end_time": "2023-12-03T00:27:27.064670200Z",
     "start_time": "2023-12-03T00:27:27.042163800Z"
    }
   },
   "id": "aac92d103920491f"
  },
  {
   "cell_type": "code",
   "execution_count": 56,
   "outputs": [
    {
     "name": "stdout",
     "output_type": "stream",
     "text": [
      "Index(['Film', 'Year', 'Script Type', 'Rotten Tomatoes  critics',\n",
      "       'Metacritic  critics', 'Average critics ', 'Rotten Tomatoes Audience ',\n",
      "       'Metacritic Audience ', 'Rotten Tomatoes vs Metacritic  deviance',\n",
      "       'Average audience ', 'Audience vs Critics deviance ', 'Primary Genre',\n",
      "       'Genre', 'Opening Weekend', 'Opening weekend ($million)',\n",
      "       'Domestic Gross', 'Domestic gross ($million)',\n",
      "       'Foreign Gross ($million)', 'Foreign Gross', 'Worldwide Gross',\n",
      "       'Worldwide Gross ($million)', ' of Gross earned abroad',\n",
      "       'Budget ($million)', ' Budget recovered',\n",
      "       ' Budget recovered opening weekend', 'Distributor', 'IMDb Rating',\n",
      "       'IMDB vs RT disparity', 'Release Date (US)', 'Oscar Winners',\n",
      "       'Oscar Detail'],\n",
      "      dtype='object')\n"
     ]
    }
   ],
   "source": [
    "print(df.columns)"
   ],
   "metadata": {
    "collapsed": false,
    "ExecuteTime": {
     "end_time": "2023-12-02T23:36:41.270941900Z",
     "start_time": "2023-12-02T23:36:41.241159200Z"
    }
   },
   "id": "6dd53a7c7032c740"
  },
  {
   "cell_type": "code",
   "execution_count": 57,
   "outputs": [
    {
     "data": {
      "text/plain": "Film                                        object\nYear                                         int64\nScript Type                                 object\nRotten Tomatoes  critics                    object\nMetacritic  critics                         object\nAverage critics                             object\nRotten Tomatoes Audience                   float64\nMetacritic Audience                         object\nRotten Tomatoes vs Metacritic  deviance     object\nAverage audience                            object\nAudience vs Critics deviance                object\nPrimary Genre                               object\nGenre                                       object\nOpening Weekend                             object\nOpening weekend ($million)                 float64\nDomestic Gross                              object\nDomestic gross ($million)                  float64\nForeign Gross ($million)                    object\nForeign Gross                               object\nWorldwide Gross                             object\nWorldwide Gross ($million)                 float64\n of Gross earned abroad                     object\nBudget ($million)                           object\n Budget recovered                           object\n Budget recovered opening weekend           object\nDistributor                                float64\nIMDb Rating                                float64\nIMDB vs RT disparity                       float64\nRelease Date (US)                           object\nOscar Winners                               object\nOscar Detail                                object\ndtype: object"
     },
     "execution_count": 57,
     "metadata": {},
     "output_type": "execute_result"
    }
   ],
   "source": [
    "df.dtypes"
   ],
   "metadata": {
    "collapsed": false,
    "ExecuteTime": {
     "end_time": "2023-12-02T23:36:42.234334800Z",
     "start_time": "2023-12-02T23:36:42.229336700Z"
    }
   },
   "id": "b083f35e852cd7c0"
  },
  {
   "cell_type": "code",
   "execution_count": 58,
   "outputs": [
    {
     "data": {
      "text/plain": "Oscar Winners\nOscar Winner    20\nOscar winner    36\nName: Film, dtype: int64"
     },
     "execution_count": 58,
     "metadata": {},
     "output_type": "execute_result"
    }
   ],
   "source": [
    "df.groupby('Oscar Winners').count()['Film']"
   ],
   "metadata": {
    "collapsed": false,
    "ExecuteTime": {
     "end_time": "2023-12-02T23:36:42.827942800Z",
     "start_time": "2023-12-02T23:36:42.813382100Z"
    }
   },
   "id": "42f264e5e17098f3"
  },
  {
   "cell_type": "code",
   "execution_count": 59,
   "outputs": [
    {
     "data": {
      "text/plain": "array([nan, 'Oscar winner', 'Oscar Winner'], dtype=object)"
     },
     "execution_count": 59,
     "metadata": {},
     "output_type": "execute_result"
    }
   ],
   "source": [
    "df['Oscar Winners'].unique()"
   ],
   "metadata": {
    "collapsed": false,
    "ExecuteTime": {
     "end_time": "2023-12-02T23:36:43.308932700Z",
     "start_time": "2023-12-02T23:36:43.303410600Z"
    }
   },
   "id": "8522af5e335f78a7"
  },
  {
   "cell_type": "code",
   "execution_count": 60,
   "outputs": [
    {
     "data": {
      "text/plain": "array([nan, 'Oscar Winner'], dtype=object)"
     },
     "execution_count": 60,
     "metadata": {},
     "output_type": "execute_result"
    }
   ],
   "source": [
    "def clean_oscar_winners(x):\n",
    "    if not pd.isna(x):\n",
    "        if x == 'Oscar winner':\n",
    "            return 'Oscar Winner'\n",
    "    return x\n",
    "df['Oscar Winners'] = df['Oscar Winners'].map(lambda x:clean_oscar_winners(x))\n",
    "df['Oscar Winners'].unique()"
   ],
   "metadata": {
    "collapsed": false,
    "ExecuteTime": {
     "end_time": "2023-12-02T23:36:43.980797500Z",
     "start_time": "2023-12-02T23:36:43.969767600Z"
    }
   },
   "id": "680551d76075f7cd"
  },
  {
   "cell_type": "code",
   "execution_count": 61,
   "outputs": [
    {
     "name": "stdout",
     "output_type": "stream",
     "text": [
      "Percentage of `Oscar Winners` valid data: 3.994%\n"
     ]
    }
   ],
   "source": [
    "percentage_of_not_nan=(~df['Oscar Winners'].isna()).sum()/len(df) * 100\n",
    "print(f\"Percentage of `Oscar Winners` valid data: {percentage_of_not_nan:.4}%\")"
   ],
   "metadata": {
    "collapsed": false,
    "ExecuteTime": {
     "end_time": "2023-12-02T23:36:44.751830200Z",
     "start_time": "2023-12-02T23:36:44.740087Z"
    }
   },
   "id": "109bebff0ff9a626"
  },
  {
   "cell_type": "code",
   "execution_count": 62,
   "outputs": [
    {
     "data": {
      "text/plain": "array([nan, 'Best Original Screenplay', 'Best Supporting Actress',\n       'Best Picture, Best Director, Best Supporting Actor, Best Adapted Screenplay',\n       'Best Animated Feature', 'Best Art Direction',\n       'Best Editing, Best Sound, Best Sound Editing',\n       'Best Visual Effects', 'Best Actor, Best Cinematography',\n       'Best Actor, Best Original Screenplay',\n       'Best Picture, Best Director, Best Adapted Screenplay',\n       'Best Actress',\n       'Best Picture, Best Director, Best Original Screenplay',\n       'Best Animated Film', 'Best Adapted Screenplay',\n       'Best Picture, Best Director', 'Best Supporting Actor',\n       'Best Director', 'Best Picture, Best Adapted Screenplay',\n       'Best Original Screenplay (Spike Jonze)',\n       'Best Actress (Cate Blanchett)',\n       'Best Supporting Actor (Jared Leto), Best Makeup and Hairstyling (Adruitha Lee and Robin Mathews), Best Actor (Matthew McConaughey)',\n       'Best Picture, Best Original Screenplay',\n       'Best Supporting Actress (Patricia Arquette)',\n       'Best Supporting Actor (J.K. Simmons), Best Film Editing (Tom Cross), Best Sound Mixing (Craig Mann, Ben Wilkins and Thomas Curley)',\n       'Original Song', 'Animated Feature Film',\n       'Actress in a Leading Role',\n       'Costume Design, Film Editing, Make Up and Hair Styling, Production Design, Sound Editing, Sound Mixing',\n       'Visual Effects', 'Actor in a Supporting Role',\n       'Best Picture, Writing (original screenplay)',\n       'Actor in a Leading Role, Cinematography, Directing',\n       'Writing (adapted screenplay)', 'Actress in a Supporting Role',\n       'Best Cinematography, Best Visual Effects',\n       'Best Original Song, Best Animated Feature',\n       'Best Film Editing, Best Sound Editing, Best Sound Mixing',\n       'Best Actress, Best Supporting Actor'], dtype=object)"
     },
     "execution_count": 62,
     "metadata": {},
     "output_type": "execute_result"
    }
   ],
   "source": [
    "df['Oscar Detail'].unique()"
   ],
   "metadata": {
    "collapsed": false,
    "ExecuteTime": {
     "end_time": "2023-12-02T23:36:45.351774Z",
     "start_time": "2023-12-02T23:36:45.326733Z"
    }
   },
   "id": "52771a039f1373a0"
  },
  {
   "cell_type": "code",
   "execution_count": 4,
   "outputs": [],
   "source": [
    "oscars = pd.read_csv('./../data/oscars.csv')"
   ],
   "metadata": {
    "collapsed": false,
    "ExecuteTime": {
     "end_time": "2023-12-03T00:27:32.315074600Z",
     "start_time": "2023-12-03T00:27:32.308077800Z"
    }
   },
   "id": "8cbc2d2aee4bc418"
  },
  {
   "cell_type": "code",
   "execution_count": 10,
   "outputs": [
    {
     "data": {
      "text/plain": "      year           winners  \\\n1264  1987   'Round Midnight   \n1885  2014  12 Years a Slave   \n1892  2014  12 Years a Slave   \n2037  2020              1917   \n2045  2020              1917   \n...    ...               ...   \n891   1970                 Z   \n890   1970                 Z   \n1980  2017          Zootopia   \n760   1965   Zorba the Greek   \n762   1965   Zorba the Greek   \n\n                                               category  \n1264                         Best Music, Original Score  \n1885                    Best Motion Picture of the Year  \n1892                   Best Writing, Adapted Screenplay  \n2037                 Best Achievement in Cinematography  \n2045                   Best Achievement in Sound Mixing  \n...                                                 ...  \n891                          Best Foreign Language Film  \n890                                   Best Film Editing  \n1980             Best Animated Feature Film of the Year  \n760   Best Art Direction-Set Decoration, Black-and-W...  \n762                Best Cinematography, Black-and-White  \n\n[2100 rows x 3 columns]",
      "text/html": "<div>\n<style scoped>\n    .dataframe tbody tr th:only-of-type {\n        vertical-align: middle;\n    }\n\n    .dataframe tbody tr th {\n        vertical-align: top;\n    }\n\n    .dataframe thead th {\n        text-align: right;\n    }\n</style>\n<table border=\"1\" class=\"dataframe\">\n  <thead>\n    <tr style=\"text-align: right;\">\n      <th></th>\n      <th>year</th>\n      <th>winners</th>\n      <th>category</th>\n    </tr>\n  </thead>\n  <tbody>\n    <tr>\n      <th>1264</th>\n      <td>1987</td>\n      <td>'Round Midnight</td>\n      <td>Best Music, Original Score</td>\n    </tr>\n    <tr>\n      <th>1885</th>\n      <td>2014</td>\n      <td>12 Years a Slave</td>\n      <td>Best Motion Picture of the Year</td>\n    </tr>\n    <tr>\n      <th>1892</th>\n      <td>2014</td>\n      <td>12 Years a Slave</td>\n      <td>Best Writing, Adapted Screenplay</td>\n    </tr>\n    <tr>\n      <th>2037</th>\n      <td>2020</td>\n      <td>1917</td>\n      <td>Best Achievement in Cinematography</td>\n    </tr>\n    <tr>\n      <th>2045</th>\n      <td>2020</td>\n      <td>1917</td>\n      <td>Best Achievement in Sound Mixing</td>\n    </tr>\n    <tr>\n      <th>...</th>\n      <td>...</td>\n      <td>...</td>\n      <td>...</td>\n    </tr>\n    <tr>\n      <th>891</th>\n      <td>1970</td>\n      <td>Z</td>\n      <td>Best Foreign Language Film</td>\n    </tr>\n    <tr>\n      <th>890</th>\n      <td>1970</td>\n      <td>Z</td>\n      <td>Best Film Editing</td>\n    </tr>\n    <tr>\n      <th>1980</th>\n      <td>2017</td>\n      <td>Zootopia</td>\n      <td>Best Animated Feature Film of the Year</td>\n    </tr>\n    <tr>\n      <th>760</th>\n      <td>1965</td>\n      <td>Zorba the Greek</td>\n      <td>Best Art Direction-Set Decoration, Black-and-W...</td>\n    </tr>\n    <tr>\n      <th>762</th>\n      <td>1965</td>\n      <td>Zorba the Greek</td>\n      <td>Best Cinematography, Black-and-White</td>\n    </tr>\n  </tbody>\n</table>\n<p>2100 rows × 3 columns</p>\n</div>"
     },
     "execution_count": 10,
     "metadata": {},
     "output_type": "execute_result"
    }
   ],
   "source": [
    "oscars.sort_values(by='winners' ,inplace=True)\n",
    "oscars"
   ],
   "metadata": {
    "collapsed": false,
    "ExecuteTime": {
     "end_time": "2023-12-03T00:24:07.046122200Z",
     "start_time": "2023-12-03T00:24:06.994854400Z"
    }
   },
   "id": "c3f9788f82426a5b"
  },
  {
   "cell_type": "code",
   "execution_count": 6,
   "outputs": [
    {
     "ename": "ValueError",
     "evalue": "Incompatible indexer with Series",
     "output_type": "error",
     "traceback": [
      "\u001B[0;31m---------------------------------------------------------------------------\u001B[0m",
      "\u001B[0;31mValueError\u001B[0m                                Traceback (most recent call last)",
      "Cell \u001B[0;32mIn[6], line 5\u001B[0m\n\u001B[1;32m      3\u001B[0m     \u001B[38;5;28;01mif\u001B[39;00m film \u001B[38;5;129;01min\u001B[39;00m oscars[\u001B[38;5;124m'\u001B[39m\u001B[38;5;124mwinners\u001B[39m\u001B[38;5;124m'\u001B[39m]\u001B[38;5;241m.\u001B[39mvalues:\n\u001B[1;32m      4\u001B[0m         df\u001B[38;5;241m.\u001B[39mloc[i,\u001B[38;5;124m'\u001B[39m\u001B[38;5;124mOscar Winners\u001B[39m\u001B[38;5;124m'\u001B[39m] \u001B[38;5;241m=\u001B[39m \u001B[38;5;124m'\u001B[39m\u001B[38;5;124mOscar Winner\u001B[39m\u001B[38;5;124m'\u001B[39m\n\u001B[0;32m----> 5\u001B[0m         \u001B[43mdf\u001B[49m\u001B[38;5;241;43m.\u001B[39;49m\u001B[43mloc\u001B[49m\u001B[43m[\u001B[49m\u001B[43mi\u001B[49m\u001B[43m,\u001B[49m\u001B[38;5;124;43m'\u001B[39;49m\u001B[38;5;124;43mOscar Detail\u001B[39;49m\u001B[38;5;124;43m'\u001B[39;49m\u001B[43m]\u001B[49m \u001B[38;5;241m=\u001B[39m oscars[oscars[\u001B[38;5;124m'\u001B[39m\u001B[38;5;124mwinners\u001B[39m\u001B[38;5;124m'\u001B[39m]\u001B[38;5;241m==\u001B[39mfilm][\u001B[38;5;124m'\u001B[39m\u001B[38;5;124mcategory\u001B[39m\u001B[38;5;124m'\u001B[39m]\n\u001B[1;32m      6\u001B[0m         q \u001B[38;5;241m+\u001B[39m\u001B[38;5;241m=\u001B[39m \u001B[38;5;241m1\u001B[39m\n\u001B[1;32m      8\u001B[0m df[\u001B[38;5;124m'\u001B[39m\u001B[38;5;124mOscar Winners\u001B[39m\u001B[38;5;124m'\u001B[39m], q\n",
      "File \u001B[0;32m~/.local/lib/python3.10/site-packages/pandas/core/indexing.py:885\u001B[0m, in \u001B[0;36m_LocationIndexer.__setitem__\u001B[0;34m(self, key, value)\u001B[0m\n\u001B[1;32m    882\u001B[0m \u001B[38;5;28mself\u001B[39m\u001B[38;5;241m.\u001B[39m_has_valid_setitem_indexer(key)\n\u001B[1;32m    884\u001B[0m iloc \u001B[38;5;241m=\u001B[39m \u001B[38;5;28mself\u001B[39m \u001B[38;5;28;01mif\u001B[39;00m \u001B[38;5;28mself\u001B[39m\u001B[38;5;241m.\u001B[39mname \u001B[38;5;241m==\u001B[39m \u001B[38;5;124m\"\u001B[39m\u001B[38;5;124miloc\u001B[39m\u001B[38;5;124m\"\u001B[39m \u001B[38;5;28;01melse\u001B[39;00m \u001B[38;5;28mself\u001B[39m\u001B[38;5;241m.\u001B[39mobj\u001B[38;5;241m.\u001B[39miloc\n\u001B[0;32m--> 885\u001B[0m \u001B[43miloc\u001B[49m\u001B[38;5;241;43m.\u001B[39;49m\u001B[43m_setitem_with_indexer\u001B[49m\u001B[43m(\u001B[49m\u001B[43mindexer\u001B[49m\u001B[43m,\u001B[49m\u001B[43m \u001B[49m\u001B[43mvalue\u001B[49m\u001B[43m,\u001B[49m\u001B[43m \u001B[49m\u001B[38;5;28;43mself\u001B[39;49m\u001B[38;5;241;43m.\u001B[39;49m\u001B[43mname\u001B[49m\u001B[43m)\u001B[49m\n",
      "File \u001B[0;32m~/.local/lib/python3.10/site-packages/pandas/core/indexing.py:1893\u001B[0m, in \u001B[0;36m_iLocIndexer._setitem_with_indexer\u001B[0;34m(self, indexer, value, name)\u001B[0m\n\u001B[1;32m   1890\u001B[0m \u001B[38;5;66;03m# align and set the values\u001B[39;00m\n\u001B[1;32m   1891\u001B[0m \u001B[38;5;28;01mif\u001B[39;00m take_split_path:\n\u001B[1;32m   1892\u001B[0m     \u001B[38;5;66;03m# We have to operate column-wise\u001B[39;00m\n\u001B[0;32m-> 1893\u001B[0m     \u001B[38;5;28;43mself\u001B[39;49m\u001B[38;5;241;43m.\u001B[39;49m\u001B[43m_setitem_with_indexer_split_path\u001B[49m\u001B[43m(\u001B[49m\u001B[43mindexer\u001B[49m\u001B[43m,\u001B[49m\u001B[43m \u001B[49m\u001B[43mvalue\u001B[49m\u001B[43m,\u001B[49m\u001B[43m \u001B[49m\u001B[43mname\u001B[49m\u001B[43m)\u001B[49m\n\u001B[1;32m   1894\u001B[0m \u001B[38;5;28;01melse\u001B[39;00m:\n\u001B[1;32m   1895\u001B[0m     \u001B[38;5;28mself\u001B[39m\u001B[38;5;241m.\u001B[39m_setitem_single_block(indexer, value, name)\n",
      "File \u001B[0;32m~/.local/lib/python3.10/site-packages/pandas/core/indexing.py:1914\u001B[0m, in \u001B[0;36m_iLocIndexer._setitem_with_indexer_split_path\u001B[0;34m(self, indexer, value, name)\u001B[0m\n\u001B[1;32m   1911\u001B[0m \u001B[38;5;28;01mif\u001B[39;00m (\u001B[38;5;28misinstance\u001B[39m(value, ABCSeries) \u001B[38;5;129;01mand\u001B[39;00m name \u001B[38;5;241m!=\u001B[39m \u001B[38;5;124m\"\u001B[39m\u001B[38;5;124miloc\u001B[39m\u001B[38;5;124m\"\u001B[39m) \u001B[38;5;129;01mor\u001B[39;00m \u001B[38;5;28misinstance\u001B[39m(value, \u001B[38;5;28mdict\u001B[39m):\n\u001B[1;32m   1912\u001B[0m     \u001B[38;5;28;01mfrom\u001B[39;00m \u001B[38;5;21;01mpandas\u001B[39;00m \u001B[38;5;28;01mimport\u001B[39;00m Series\n\u001B[0;32m-> 1914\u001B[0m     value \u001B[38;5;241m=\u001B[39m \u001B[38;5;28;43mself\u001B[39;49m\u001B[38;5;241;43m.\u001B[39;49m\u001B[43m_align_series\u001B[49m\u001B[43m(\u001B[49m\u001B[43mindexer\u001B[49m\u001B[43m,\u001B[49m\u001B[43m \u001B[49m\u001B[43mSeries\u001B[49m\u001B[43m(\u001B[49m\u001B[43mvalue\u001B[49m\u001B[43m)\u001B[49m\u001B[43m)\u001B[49m\n\u001B[1;32m   1916\u001B[0m \u001B[38;5;66;03m# Ensure we have something we can iterate over\u001B[39;00m\n\u001B[1;32m   1917\u001B[0m info_axis \u001B[38;5;241m=\u001B[39m indexer[\u001B[38;5;241m1\u001B[39m]\n",
      "File \u001B[0;32m~/.local/lib/python3.10/site-packages/pandas/core/indexing.py:2368\u001B[0m, in \u001B[0;36m_iLocIndexer._align_series\u001B[0;34m(self, indexer, ser, multiindex_indexer, using_cow)\u001B[0m\n\u001B[1;32m   2364\u001B[0m         \u001B[38;5;28;01mreturn\u001B[39;00m ser\u001B[38;5;241m.\u001B[39m_values\u001B[38;5;241m.\u001B[39mcopy()\n\u001B[1;32m   2366\u001B[0m     \u001B[38;5;28;01mreturn\u001B[39;00m ser\u001B[38;5;241m.\u001B[39mreindex(ax)\u001B[38;5;241m.\u001B[39m_values\n\u001B[0;32m-> 2368\u001B[0m \u001B[38;5;28;01mraise\u001B[39;00m \u001B[38;5;167;01mValueError\u001B[39;00m(\u001B[38;5;124m\"\u001B[39m\u001B[38;5;124mIncompatible indexer with Series\u001B[39m\u001B[38;5;124m\"\u001B[39m)\n",
      "\u001B[0;31mValueError\u001B[0m: Incompatible indexer with Series"
     ]
    }
   ],
   "source": [
    "q = 0\n",
    "for i,film in enumerate(df['Film']):\n",
    "    if film in oscars['winners'].values:\n",
    "        df.loc[i,'Oscar Winners'] = 'Oscar Winner'\n",
    "        df.loc[i,'Oscar Detail'] = oscars[oscars['winners']==film]['category']\n",
    "        q += 1\n",
    "\n",
    "df['Oscar Winners'], q"
   ],
   "metadata": {
    "collapsed": false,
    "ExecuteTime": {
     "end_time": "2023-12-03T00:27:49.967429100Z",
     "start_time": "2023-12-03T00:27:49.815985600Z"
    }
   },
   "id": "cccc46e2ceb0cf61"
  },
  {
   "cell_type": "code",
   "execution_count": null,
   "outputs": [],
   "source": [],
   "metadata": {
    "collapsed": false
   },
   "id": "75f529e3af55bf8c"
  }
 ],
 "metadata": {
  "kernelspec": {
   "display_name": "Python 3",
   "language": "python",
   "name": "python3"
  },
  "language_info": {
   "codemirror_mode": {
    "name": "ipython",
    "version": 2
   },
   "file_extension": ".py",
   "mimetype": "text/x-python",
   "name": "python",
   "nbconvert_exporter": "python",
   "pygments_lexer": "ipython2",
   "version": "2.7.6"
  }
 },
 "nbformat": 4,
 "nbformat_minor": 5
}
