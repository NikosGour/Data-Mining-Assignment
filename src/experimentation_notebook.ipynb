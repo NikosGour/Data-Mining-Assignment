{
 "cells": [
  {
   "cell_type": "code",
   "execution_count": 61,
   "id": "initial_id",
   "metadata": {
    "collapsed": true,
    "ExecuteTime": {
     "end_time": "2023-12-03T16:41:18.599467300Z",
     "start_time": "2023-12-03T16:41:18.583864100Z"
    }
   },
   "outputs": [],
   "source": [
    "import numpy as np\n",
    "import pandas as pd\n",
    "import Constants\n",
    "import os"
   ]
  },
  {
   "cell_type": "code",
   "execution_count": 62,
   "outputs": [],
   "source": [
    "df = pd.read_excel(os.path.join(Constants.ROOT_DIR,'data','movies.xlsx'))"
   ],
   "metadata": {
    "collapsed": false,
    "ExecuteTime": {
     "end_time": "2023-12-03T16:41:19.538426700Z",
     "start_time": "2023-12-03T16:41:18.911951400Z"
    }
   },
   "id": "bc90220f3dfb38c0"
  },
  {
   "cell_type": "code",
   "execution_count": 48,
   "outputs": [
    {
     "data": {
      "text/plain": "                                Film  Year          Script Type  \\\n0                                300  2007           adaptation   \n1                       3:10 to Yuma  2007               remake   \n2                   30 Days of Night  2007           adaptation   \n3                Across the Universe  2007  original screenplay   \n4       Alien vs. Predator - Requiem  2007               sequel   \n...                              ...   ...                  ...   \n1397                       Wish Upon  2017  original screenplay   \n1398                          Wonder  2017           adaptation   \n1399                    Wonder Woman  2017           adaptation   \n1400  xXx: The Return of Xander Cage  2017               sequel   \n1401                      Your Name.  2017           adaptation   \n\n     Rotten Tomatoes  critics Metacritic  critics Average critics   \\\n0                          60                  51               56   \n1                          88                  76               82   \n2                          50                  53               52   \n3                          54                  56               55   \n4                          14                  29               22   \n...                       ...                 ...              ...   \n1397                       17                  32               25   \n1398                       85                  66               76   \n1399                       92                  76               84   \n1400                       45                  42               44   \n1401                       97                  79               88   \n\n      Rotten Tomatoes Audience  Metacritic Audience   \\\n0                          89.0                   71   \n1                          86.0                   73   \n2                          56.0                   65   \n3                          82.0                   73   \n4                          31.0                   45   \n...                         ...                  ...   \n1397                       32.0                   40   \n1398                       91.0                   77   \n1399                       89.0                   78   \n1400                       38.0                   48   \n1401                       94.0                   90   \n\n     Rotten Tomatoes vs Metacritic  deviance Average audience   ...  \\\n0                                         18                80  ...   \n1                                         13                80  ...   \n2                                         -9                61  ...   \n3                                          9                78  ...   \n4                                        -14                38  ...   \n...                                      ...               ...  ...   \n1397                                      -8                36  ...   \n1398                                      14                84  ...   \n1399                                      11                84  ...   \n1400                                     -10                43  ...   \n1401                                       4                92  ...   \n\n      of Gross earned abroad Budget ($million)  Budget recovered  \\\n0                     53.82%                65           701.64%   \n1                     23.18%                50           139.56%   \n2                     47.31%                32           234.67%   \n3                     17.11%                45            65.26%   \n4                     67.57%                40           322.21%   \n...                      ...               ...               ...   \n1397                   0.00%                12           119.18%   \n1398                  22.16%                20           661.80%   \n1399                  49.80%               149           551.52%   \n1400                  87.03%                85           407.23%   \n1401                  98.59%                 -                 -   \n\n      Budget recovered opening weekend  Distributor IMDb Rating  \\\n0                              109.05%          NaN         NaN   \n1                               28.07%          NaN         NaN   \n2                               49.85%          NaN         NaN   \n3                                8.50%          NaN         NaN   \n4                               25.15%          NaN         NaN   \n...                                ...          ...         ...   \n1397                            45.56%          NaN         NaN   \n1398                           137.74%          NaN         NaN   \n1399                            69.30%          NaN         NaN   \n1400                            23.68%          NaN         NaN   \n1401                                 -          NaN         NaN   \n\n      IMDB vs RT disparity Release Date (US) Oscar Winners Oscar Detail  \n0                      NaN       Mar 9, 2007           NaN          NaN  \n1                      NaN       Sep 7, 2007           NaN          NaN  \n2                      NaN      Oct 19, 2007           NaN          NaN  \n3                      NaN      Oct 12, 2007           NaN          NaN  \n4                      NaN      Dec 25, 2007           NaN          NaN  \n...                    ...               ...           ...          ...  \n1397                   NaN      Jul 14, 2017           NaN          NaN  \n1398                   NaN      Nov 17, 2017           NaN          NaN  \n1399                   NaN       Jun 2, 2017           NaN          NaN  \n1400                   NaN      Jan 20, 2017           NaN          NaN  \n1401                   NaN       Apr 7, 2017           NaN          NaN  \n\n[1402 rows x 31 columns]",
      "text/html": "<div>\n<style scoped>\n    .dataframe tbody tr th:only-of-type {\n        vertical-align: middle;\n    }\n\n    .dataframe tbody tr th {\n        vertical-align: top;\n    }\n\n    .dataframe thead th {\n        text-align: right;\n    }\n</style>\n<table border=\"1\" class=\"dataframe\">\n  <thead>\n    <tr style=\"text-align: right;\">\n      <th></th>\n      <th>Film</th>\n      <th>Year</th>\n      <th>Script Type</th>\n      <th>Rotten Tomatoes  critics</th>\n      <th>Metacritic  critics</th>\n      <th>Average critics</th>\n      <th>Rotten Tomatoes Audience</th>\n      <th>Metacritic Audience</th>\n      <th>Rotten Tomatoes vs Metacritic  deviance</th>\n      <th>Average audience</th>\n      <th>...</th>\n      <th>of Gross earned abroad</th>\n      <th>Budget ($million)</th>\n      <th>Budget recovered</th>\n      <th>Budget recovered opening weekend</th>\n      <th>Distributor</th>\n      <th>IMDb Rating</th>\n      <th>IMDB vs RT disparity</th>\n      <th>Release Date (US)</th>\n      <th>Oscar Winners</th>\n      <th>Oscar Detail</th>\n    </tr>\n  </thead>\n  <tbody>\n    <tr>\n      <th>0</th>\n      <td>300</td>\n      <td>2007</td>\n      <td>adaptation</td>\n      <td>60</td>\n      <td>51</td>\n      <td>56</td>\n      <td>89.0</td>\n      <td>71</td>\n      <td>18</td>\n      <td>80</td>\n      <td>...</td>\n      <td>53.82%</td>\n      <td>65</td>\n      <td>701.64%</td>\n      <td>109.05%</td>\n      <td>NaN</td>\n      <td>NaN</td>\n      <td>NaN</td>\n      <td>Mar 9, 2007</td>\n      <td>NaN</td>\n      <td>NaN</td>\n    </tr>\n    <tr>\n      <th>1</th>\n      <td>3:10 to Yuma</td>\n      <td>2007</td>\n      <td>remake</td>\n      <td>88</td>\n      <td>76</td>\n      <td>82</td>\n      <td>86.0</td>\n      <td>73</td>\n      <td>13</td>\n      <td>80</td>\n      <td>...</td>\n      <td>23.18%</td>\n      <td>50</td>\n      <td>139.56%</td>\n      <td>28.07%</td>\n      <td>NaN</td>\n      <td>NaN</td>\n      <td>NaN</td>\n      <td>Sep 7, 2007</td>\n      <td>NaN</td>\n      <td>NaN</td>\n    </tr>\n    <tr>\n      <th>2</th>\n      <td>30 Days of Night</td>\n      <td>2007</td>\n      <td>adaptation</td>\n      <td>50</td>\n      <td>53</td>\n      <td>52</td>\n      <td>56.0</td>\n      <td>65</td>\n      <td>-9</td>\n      <td>61</td>\n      <td>...</td>\n      <td>47.31%</td>\n      <td>32</td>\n      <td>234.67%</td>\n      <td>49.85%</td>\n      <td>NaN</td>\n      <td>NaN</td>\n      <td>NaN</td>\n      <td>Oct 19, 2007</td>\n      <td>NaN</td>\n      <td>NaN</td>\n    </tr>\n    <tr>\n      <th>3</th>\n      <td>Across the Universe</td>\n      <td>2007</td>\n      <td>original screenplay</td>\n      <td>54</td>\n      <td>56</td>\n      <td>55</td>\n      <td>82.0</td>\n      <td>73</td>\n      <td>9</td>\n      <td>78</td>\n      <td>...</td>\n      <td>17.11%</td>\n      <td>45</td>\n      <td>65.26%</td>\n      <td>8.50%</td>\n      <td>NaN</td>\n      <td>NaN</td>\n      <td>NaN</td>\n      <td>Oct 12, 2007</td>\n      <td>NaN</td>\n      <td>NaN</td>\n    </tr>\n    <tr>\n      <th>4</th>\n      <td>Alien vs. Predator - Requiem</td>\n      <td>2007</td>\n      <td>sequel</td>\n      <td>14</td>\n      <td>29</td>\n      <td>22</td>\n      <td>31.0</td>\n      <td>45</td>\n      <td>-14</td>\n      <td>38</td>\n      <td>...</td>\n      <td>67.57%</td>\n      <td>40</td>\n      <td>322.21%</td>\n      <td>25.15%</td>\n      <td>NaN</td>\n      <td>NaN</td>\n      <td>NaN</td>\n      <td>Dec 25, 2007</td>\n      <td>NaN</td>\n      <td>NaN</td>\n    </tr>\n    <tr>\n      <th>...</th>\n      <td>...</td>\n      <td>...</td>\n      <td>...</td>\n      <td>...</td>\n      <td>...</td>\n      <td>...</td>\n      <td>...</td>\n      <td>...</td>\n      <td>...</td>\n      <td>...</td>\n      <td>...</td>\n      <td>...</td>\n      <td>...</td>\n      <td>...</td>\n      <td>...</td>\n      <td>...</td>\n      <td>...</td>\n      <td>...</td>\n      <td>...</td>\n      <td>...</td>\n      <td>...</td>\n    </tr>\n    <tr>\n      <th>1397</th>\n      <td>Wish Upon</td>\n      <td>2017</td>\n      <td>original screenplay</td>\n      <td>17</td>\n      <td>32</td>\n      <td>25</td>\n      <td>32.0</td>\n      <td>40</td>\n      <td>-8</td>\n      <td>36</td>\n      <td>...</td>\n      <td>0.00%</td>\n      <td>12</td>\n      <td>119.18%</td>\n      <td>45.56%</td>\n      <td>NaN</td>\n      <td>NaN</td>\n      <td>NaN</td>\n      <td>Jul 14, 2017</td>\n      <td>NaN</td>\n      <td>NaN</td>\n    </tr>\n    <tr>\n      <th>1398</th>\n      <td>Wonder</td>\n      <td>2017</td>\n      <td>adaptation</td>\n      <td>85</td>\n      <td>66</td>\n      <td>76</td>\n      <td>91.0</td>\n      <td>77</td>\n      <td>14</td>\n      <td>84</td>\n      <td>...</td>\n      <td>22.16%</td>\n      <td>20</td>\n      <td>661.80%</td>\n      <td>137.74%</td>\n      <td>NaN</td>\n      <td>NaN</td>\n      <td>NaN</td>\n      <td>Nov 17, 2017</td>\n      <td>NaN</td>\n      <td>NaN</td>\n    </tr>\n    <tr>\n      <th>1399</th>\n      <td>Wonder Woman</td>\n      <td>2017</td>\n      <td>adaptation</td>\n      <td>92</td>\n      <td>76</td>\n      <td>84</td>\n      <td>89.0</td>\n      <td>78</td>\n      <td>11</td>\n      <td>84</td>\n      <td>...</td>\n      <td>49.80%</td>\n      <td>149</td>\n      <td>551.52%</td>\n      <td>69.30%</td>\n      <td>NaN</td>\n      <td>NaN</td>\n      <td>NaN</td>\n      <td>Jun 2, 2017</td>\n      <td>NaN</td>\n      <td>NaN</td>\n    </tr>\n    <tr>\n      <th>1400</th>\n      <td>xXx: The Return of Xander Cage</td>\n      <td>2017</td>\n      <td>sequel</td>\n      <td>45</td>\n      <td>42</td>\n      <td>44</td>\n      <td>38.0</td>\n      <td>48</td>\n      <td>-10</td>\n      <td>43</td>\n      <td>...</td>\n      <td>87.03%</td>\n      <td>85</td>\n      <td>407.23%</td>\n      <td>23.68%</td>\n      <td>NaN</td>\n      <td>NaN</td>\n      <td>NaN</td>\n      <td>Jan 20, 2017</td>\n      <td>NaN</td>\n      <td>NaN</td>\n    </tr>\n    <tr>\n      <th>1401</th>\n      <td>Your Name.</td>\n      <td>2017</td>\n      <td>adaptation</td>\n      <td>97</td>\n      <td>79</td>\n      <td>88</td>\n      <td>94.0</td>\n      <td>90</td>\n      <td>4</td>\n      <td>92</td>\n      <td>...</td>\n      <td>98.59%</td>\n      <td>-</td>\n      <td>-</td>\n      <td>-</td>\n      <td>NaN</td>\n      <td>NaN</td>\n      <td>NaN</td>\n      <td>Apr 7, 2017</td>\n      <td>NaN</td>\n      <td>NaN</td>\n    </tr>\n  </tbody>\n</table>\n<p>1402 rows × 31 columns</p>\n</div>"
     },
     "execution_count": 48,
     "metadata": {},
     "output_type": "execute_result"
    }
   ],
   "source": [
    "df"
   ],
   "metadata": {
    "collapsed": false,
    "ExecuteTime": {
     "end_time": "2023-12-03T16:38:21.150627300Z",
     "start_time": "2023-12-03T16:38:21.096352800Z"
    }
   },
   "id": "aac92d103920491f"
  },
  {
   "cell_type": "code",
   "execution_count": 4,
   "outputs": [
    {
     "name": "stdout",
     "output_type": "stream",
     "text": [
      "Index(['Film', 'Year', 'Script Type', 'Rotten Tomatoes  critics',\n",
      "       'Metacritic  critics', 'Average critics ', 'Rotten Tomatoes Audience ',\n",
      "       'Metacritic Audience ', 'Rotten Tomatoes vs Metacritic  deviance',\n",
      "       'Average audience ', 'Audience vs Critics deviance ', 'Primary Genre',\n",
      "       'Genre', 'Opening Weekend', 'Opening weekend ($million)',\n",
      "       'Domestic Gross', 'Domestic gross ($million)',\n",
      "       'Foreign Gross ($million)', 'Foreign Gross', 'Worldwide Gross',\n",
      "       'Worldwide Gross ($million)', ' of Gross earned abroad',\n",
      "       'Budget ($million)', ' Budget recovered',\n",
      "       ' Budget recovered opening weekend', 'Distributor', 'IMDb Rating',\n",
      "       'IMDB vs RT disparity', 'Release Date (US)', 'Oscar Winners',\n",
      "       'Oscar Detail'],\n",
      "      dtype='object')\n"
     ]
    }
   ],
   "source": [
    "print(df.columns)"
   ],
   "metadata": {
    "collapsed": false,
    "ExecuteTime": {
     "end_time": "2023-12-03T16:31:46.944667Z",
     "start_time": "2023-12-03T16:31:46.928913300Z"
    }
   },
   "id": "6dd53a7c7032c740"
  },
  {
   "cell_type": "code",
   "execution_count": 17,
   "outputs": [
    {
     "data": {
      "text/plain": "Film                                        object\nYear                                         int64\nScript Type                                 object\nRotten Tomatoes  critics                    object\nMetacritic  critics                         object\nAverage critics                             object\nRotten Tomatoes Audience                   float64\nMetacritic Audience                         object\nRotten Tomatoes vs Metacritic  deviance     object\nAverage audience                            object\nAudience vs Critics deviance                object\nPrimary Genre                               object\nGenre                                       object\nOpening Weekend                             object\nOpening weekend ($million)                 float64\nDomestic Gross                              object\nDomestic gross ($million)                  float64\nForeign Gross ($million)                    object\nForeign Gross                               object\nWorldwide Gross                             object\nWorldwide Gross ($million)                 float64\n of Gross earned abroad                     object\nBudget ($million)                           object\n Budget recovered                           object\n Budget recovered opening weekend           object\nDistributor                                float64\nIMDb Rating                                float64\nIMDB vs RT disparity                       float64\nRelease Date (US)                           object\nOscar Winners                               object\nOscar Detail                                object\ndtype: object"
     },
     "execution_count": 17,
     "metadata": {},
     "output_type": "execute_result"
    }
   ],
   "source": [
    "df.dtypes"
   ],
   "metadata": {
    "collapsed": false,
    "ExecuteTime": {
     "end_time": "2023-12-03T13:09:14.653309100Z",
     "start_time": "2023-12-03T13:09:14.636408900Z"
    }
   },
   "id": "b083f35e852cd7c0"
  },
  {
   "cell_type": "code",
   "execution_count": 71,
   "outputs": [
    {
     "data": {
      "text/plain": "Oscar Winners\nFalse    1346\nTrue       56\nName: Film, dtype: int64"
     },
     "execution_count": 71,
     "metadata": {},
     "output_type": "execute_result"
    }
   ],
   "source": [
    "df.groupby('Oscar Winners').count()['Film']"
   ],
   "metadata": {
    "collapsed": false,
    "ExecuteTime": {
     "end_time": "2023-12-03T16:42:04.518155Z",
     "start_time": "2023-12-03T16:42:04.471157800Z"
    }
   },
   "id": "42f264e5e17098f3"
  },
  {
   "cell_type": "code",
   "execution_count": 64,
   "outputs": [
    {
     "data": {
      "text/plain": "array([nan, 'Oscar winner', 'Oscar Winner'], dtype=object)"
     },
     "execution_count": 64,
     "metadata": {},
     "output_type": "execute_result"
    }
   ],
   "source": [
    "df['Oscar Winners'].unique()"
   ],
   "metadata": {
    "collapsed": false,
    "ExecuteTime": {
     "end_time": "2023-12-03T16:41:25.085741600Z",
     "start_time": "2023-12-03T16:41:25.054633500Z"
    }
   },
   "id": "8522af5e335f78a7"
  },
  {
   "cell_type": "code",
   "execution_count": 65,
   "outputs": [
    {
     "data": {
      "text/plain": "array([False,  True])"
     },
     "execution_count": 65,
     "metadata": {},
     "output_type": "execute_result"
    }
   ],
   "source": [
    "def clean_oscar_winners(x):\n",
    "    if not pd.isna(x):\n",
    "        if x == 'Oscar winner' or x == 'Oscar Winner':\n",
    "            return True\n",
    "    return False\n",
    "    \n",
    "df['Oscar Winners'] = df['Oscar Winners'].map(lambda x:clean_oscar_winners(x))\n",
    "df['Oscar Winners'].unique()"
   ],
   "metadata": {
    "collapsed": false,
    "ExecuteTime": {
     "end_time": "2023-12-03T16:41:26.269120500Z",
     "start_time": "2023-12-03T16:41:26.253597100Z"
    }
   },
   "id": "680551d76075f7cd"
  },
  {
   "cell_type": "code",
   "execution_count": 66,
   "outputs": [
    {
     "name": "stdout",
     "output_type": "stream",
     "text": [
      "Percentage of `Oscar Winners` valid data: 3.994%\n"
     ]
    }
   ],
   "source": [
    "percentage_of_not_nan=(df['Oscar Winners']== True).sum()/len(df) * 100\n",
    "print(f\"Percentage of `Oscar Winners` valid data: {percentage_of_not_nan:.4}%\")"
   ],
   "metadata": {
    "collapsed": false,
    "ExecuteTime": {
     "end_time": "2023-12-03T16:41:28.169280300Z",
     "start_time": "2023-12-03T16:41:28.153604200Z"
    }
   },
   "id": "109bebff0ff9a626"
  },
  {
   "cell_type": "code",
   "execution_count": 55,
   "outputs": [
    {
     "data": {
      "text/plain": "array([nan, 'Best Original Screenplay', 'Best Supporting Actress',\n       'Best Picture, Best Director, Best Supporting Actor, Best Adapted Screenplay',\n       'Best Animated Feature', 'Best Art Direction',\n       'Best Editing, Best Sound, Best Sound Editing',\n       'Best Visual Effects', 'Best Actor, Best Cinematography',\n       'Best Actor, Best Original Screenplay',\n       'Best Picture, Best Director, Best Adapted Screenplay',\n       'Best Actress',\n       'Best Picture, Best Director, Best Original Screenplay',\n       'Best Animated Film', 'Best Adapted Screenplay',\n       'Best Picture, Best Director', 'Best Supporting Actor',\n       'Best Director', 'Best Picture, Best Adapted Screenplay',\n       'Best Original Screenplay (Spike Jonze)',\n       'Best Actress (Cate Blanchett)',\n       'Best Supporting Actor (Jared Leto), Best Makeup and Hairstyling (Adruitha Lee and Robin Mathews), Best Actor (Matthew McConaughey)',\n       'Best Picture, Best Original Screenplay',\n       'Best Supporting Actress (Patricia Arquette)',\n       'Best Supporting Actor (J.K. Simmons), Best Film Editing (Tom Cross), Best Sound Mixing (Craig Mann, Ben Wilkins and Thomas Curley)',\n       'Original Song', 'Animated Feature Film',\n       'Actress in a Leading Role',\n       'Costume Design, Film Editing, Make Up and Hair Styling, Production Design, Sound Editing, Sound Mixing',\n       'Visual Effects', 'Actor in a Supporting Role',\n       'Best Picture, Writing (original screenplay)',\n       'Actor in a Leading Role, Cinematography, Directing',\n       'Writing (adapted screenplay)', 'Actress in a Supporting Role',\n       'Best Cinematography, Best Visual Effects',\n       'Best Original Song, Best Animated Feature',\n       'Best Film Editing, Best Sound Editing, Best Sound Mixing',\n       'Best Actress, Best Supporting Actor'], dtype=object)"
     },
     "execution_count": 55,
     "metadata": {},
     "output_type": "execute_result"
    }
   ],
   "source": [
    "df['Oscar Detail'].unique()"
   ],
   "metadata": {
    "collapsed": false,
    "ExecuteTime": {
     "end_time": "2023-12-03T16:38:47.229911800Z",
     "start_time": "2023-12-03T16:38:47.214244600Z"
    }
   },
   "id": "52771a039f1373a0"
  },
  {
   "cell_type": "code",
   "execution_count": 67,
   "outputs": [],
   "source": [
    "oscars = pd.read_csv(os.path.join(Constants.ROOT_DIR,'data','oscars.csv'))"
   ],
   "metadata": {
    "collapsed": false,
    "ExecuteTime": {
     "end_time": "2023-12-03T16:41:31.467878700Z",
     "start_time": "2023-12-03T16:41:31.451124400Z"
    }
   },
   "id": "8cbc2d2aee4bc418"
  },
  {
   "cell_type": "code",
   "execution_count": 68,
   "outputs": [
    {
     "data": {
      "text/plain": "      year           winners  \\\n1264  1987   'Round Midnight   \n1885  2014  12 Years a Slave   \n1892  2014  12 Years a Slave   \n2037  2020              1917   \n2045  2020              1917   \n...    ...               ...   \n890   1970                 Z   \n891   1970                 Z   \n1980  2017          Zootopia   \n760   1965   Zorba the Greek   \n762   1965   Zorba the Greek   \n\n                                               category  \n1264                         Best Music, Original Score  \n1885                    Best Motion Picture of the Year  \n1892                   Best Writing, Adapted Screenplay  \n2037                 Best Achievement in Cinematography  \n2045                   Best Achievement in Sound Mixing  \n...                                                 ...  \n890                                   Best Film Editing  \n891                          Best Foreign Language Film  \n1980             Best Animated Feature Film of the Year  \n760   Best Art Direction-Set Decoration, Black-and-W...  \n762                Best Cinematography, Black-and-White  \n\n[2100 rows x 3 columns]",
      "text/html": "<div>\n<style scoped>\n    .dataframe tbody tr th:only-of-type {\n        vertical-align: middle;\n    }\n\n    .dataframe tbody tr th {\n        vertical-align: top;\n    }\n\n    .dataframe thead th {\n        text-align: right;\n    }\n</style>\n<table border=\"1\" class=\"dataframe\">\n  <thead>\n    <tr style=\"text-align: right;\">\n      <th></th>\n      <th>year</th>\n      <th>winners</th>\n      <th>category</th>\n    </tr>\n  </thead>\n  <tbody>\n    <tr>\n      <th>1264</th>\n      <td>1987</td>\n      <td>'Round Midnight</td>\n      <td>Best Music, Original Score</td>\n    </tr>\n    <tr>\n      <th>1885</th>\n      <td>2014</td>\n      <td>12 Years a Slave</td>\n      <td>Best Motion Picture of the Year</td>\n    </tr>\n    <tr>\n      <th>1892</th>\n      <td>2014</td>\n      <td>12 Years a Slave</td>\n      <td>Best Writing, Adapted Screenplay</td>\n    </tr>\n    <tr>\n      <th>2037</th>\n      <td>2020</td>\n      <td>1917</td>\n      <td>Best Achievement in Cinematography</td>\n    </tr>\n    <tr>\n      <th>2045</th>\n      <td>2020</td>\n      <td>1917</td>\n      <td>Best Achievement in Sound Mixing</td>\n    </tr>\n    <tr>\n      <th>...</th>\n      <td>...</td>\n      <td>...</td>\n      <td>...</td>\n    </tr>\n    <tr>\n      <th>890</th>\n      <td>1970</td>\n      <td>Z</td>\n      <td>Best Film Editing</td>\n    </tr>\n    <tr>\n      <th>891</th>\n      <td>1970</td>\n      <td>Z</td>\n      <td>Best Foreign Language Film</td>\n    </tr>\n    <tr>\n      <th>1980</th>\n      <td>2017</td>\n      <td>Zootopia</td>\n      <td>Best Animated Feature Film of the Year</td>\n    </tr>\n    <tr>\n      <th>760</th>\n      <td>1965</td>\n      <td>Zorba the Greek</td>\n      <td>Best Art Direction-Set Decoration, Black-and-W...</td>\n    </tr>\n    <tr>\n      <th>762</th>\n      <td>1965</td>\n      <td>Zorba the Greek</td>\n      <td>Best Cinematography, Black-and-White</td>\n    </tr>\n  </tbody>\n</table>\n<p>2100 rows × 3 columns</p>\n</div>"
     },
     "execution_count": 68,
     "metadata": {},
     "output_type": "execute_result"
    }
   ],
   "source": [
    "oscars.sort_values(by='winners' ,inplace=True)\n",
    "oscars"
   ],
   "metadata": {
    "collapsed": false,
    "ExecuteTime": {
     "end_time": "2023-12-03T16:41:31.812570500Z",
     "start_time": "2023-12-03T16:41:31.781146400Z"
    }
   },
   "id": "c3f9788f82426a5b"
  },
  {
   "cell_type": "code",
   "execution_count": 69,
   "outputs": [],
   "source": [
    "for i, film in enumerate(df['Film']):\n",
    "    if pd.isna(df.loc[i,'Oscar Winners']):\n",
    "        if film in oscars['winners'].values:\n",
    "            df.loc[i,'Oscar Winners'] = True\n",
    "            df.loc[i,'Oscar Detail'] = oscars[oscars['winners'] == film]['category'].iloc[0]\n"
   ],
   "metadata": {
    "collapsed": false,
    "ExecuteTime": {
     "end_time": "2023-12-03T16:41:36.435076Z",
     "start_time": "2023-12-03T16:41:36.419452300Z"
    }
   },
   "id": "cccc46e2ceb0cf61"
  },
  {
   "cell_type": "code",
   "execution_count": 72,
   "outputs": [
    {
     "name": "stdout",
     "output_type": "stream",
     "text": [
      "Percentage of `Oscar Winners` valid data: 3.994%\n"
     ]
    },
    {
     "data": {
      "text/plain": "Oscar Winners\nFalse    1346\nTrue       56\nName: Film, dtype: int64"
     },
     "execution_count": 72,
     "metadata": {},
     "output_type": "execute_result"
    }
   ],
   "source": [
    "percentage_of_not_nan=(df['Oscar Winners']== True).sum()/len(df) * 100\n",
    "print(f\"Percentage of `Oscar Winners` valid data: {percentage_of_not_nan:.4}%\")\n",
    "# Gemisan ta dedomena kata +2.497%\n",
    "df.groupby('Oscar Winners').count()['Film']"
   ],
   "metadata": {
    "collapsed": false,
    "ExecuteTime": {
     "end_time": "2023-12-03T16:42:16.846966200Z",
     "start_time": "2023-12-03T16:42:16.831343500Z"
    }
   },
   "id": "75f529e3af55bf8c"
  },
  {
   "cell_type": "code",
   "execution_count": 28,
   "outputs": [
    {
     "data": {
      "text/plain": "array([nan, 'Oscar Winner'], dtype=object)"
     },
     "execution_count": 28,
     "metadata": {},
     "output_type": "execute_result"
    }
   ],
   "source": [],
   "metadata": {
    "collapsed": false,
    "ExecuteTime": {
     "end_time": "2023-12-03T13:11:38.301374200Z",
     "start_time": "2023-12-03T13:11:38.268243800Z"
    }
   },
   "id": "7510bddb4a5d8c84"
  }
 ],
 "metadata": {
  "kernelspec": {
   "display_name": "Python 3",
   "language": "python",
   "name": "python3"
  },
  "language_info": {
   "codemirror_mode": {
    "name": "ipython",
    "version": 2
   },
   "file_extension": ".py",
   "mimetype": "text/x-python",
   "name": "python",
   "nbconvert_exporter": "python",
   "pygments_lexer": "ipython2",
   "version": "2.7.6"
  }
 },
 "nbformat": 4,
 "nbformat_minor": 5
}
